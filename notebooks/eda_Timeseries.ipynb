{
 "cells": [
  {
   "cell_type": "markdown",
   "id": "4a5fe453",
   "metadata": {},
   "source": [
    "# Time Series Exploratory Notebook"
   ]
  },
  {
   "cell_type": "code",
   "execution_count": null,
   "id": "1752fb6e",
   "metadata": {},
   "outputs": [],
   "source": [
    "# load dependencies\n",
    "import matplotlib.pyplot as plt\n",
    "import statsmodels\n",
    "import pandas as pd"
   ]
  },
  {
   "cell_type": "markdown",
   "id": "5a33cbfc",
   "metadata": {},
   "source": [
    "## Historic Data"
   ]
  },
  {
   "cell_type": "markdown",
   "id": "099a0ee1",
   "metadata": {},
   "source": [
    "### Import data"
   ]
  },
  {
   "cell_type": "code",
   "execution_count": null,
   "id": "1d4152ff",
   "metadata": {},
   "outputs": [],
   "source": [
    "# historic dataset\n",
    "path = \"../data/raw/\"\n",
    "file = \"100014.csv\"\n",
    "df = pd.read_csv(path + file, sep=\";\")"
   ]
  },
  {
   "cell_type": "markdown",
   "id": "eee1678c",
   "metadata": {},
   "source": [
    "### Dataset info"
   ]
  },
  {
   "cell_type": "code",
   "execution_count": null,
   "id": "02b1d490",
   "metadata": {},
   "outputs": [],
   "source": [
    "df.info()"
   ]
  },
  {
   "cell_type": "markdown",
   "id": "04ff4d8f",
   "metadata": {},
   "source": [
    "**Description:** There are 11 columns with information in the dataset. Most of them are of dtype object. Two columns `Anzahl frei` and `Total Plätze` are of type int64 which is a good sign since we only expect nummeric characters there."
   ]
  },
  {
   "cell_type": "markdown",
   "id": "354a77f2",
   "metadata": {},
   "source": [
    "### Columns with na values"
   ]
  },
  {
   "cell_type": "code",
   "execution_count": null,
   "id": "c26ee2e2",
   "metadata": {},
   "outputs": [],
   "source": [
    "df.isna().any()"
   ]
  },
  {
   "cell_type": "markdown",
   "id": "bed72eb9",
   "metadata": {},
   "source": [
    "**Description:** There are no missing values in any columns of the historic dataset. All entries seem to be complete."
   ]
  },
  {
   "cell_type": "markdown",
   "id": "c100c9ff",
   "metadata": {},
   "source": [
    "### Nr of garages in the dataset"
   ]
  },
  {
   "cell_type": "code",
   "execution_count": null,
   "id": "1938cb84",
   "metadata": {},
   "outputs": [],
   "source": [
    "df[[\"id\", \"id2\", \"title\"]].drop_duplicates().reset_index(drop=True)"
   ]
  },
  {
   "cell_type": "markdown",
   "id": "036b9f96",
   "metadata": {},
   "source": [
    "**Description:** There are a total of 16 distinct garages in the dataset. "
   ]
  },
  {
   "cell_type": "markdown",
   "id": "38362581",
   "metadata": {},
   "source": [
    "### Nr of entries per garage"
   ]
  },
  {
   "cell_type": "code",
   "execution_count": null,
   "id": "da9d6f4c",
   "metadata": {},
   "outputs": [],
   "source": [
    "df[[\"title\", \"published\"]].groupby(\"title\").count()"
   ]
  },
  {
   "cell_type": "markdown",
   "id": "b46286ab",
   "metadata": {},
   "source": [
    "**Description:** There is only one garage: \"Parkhaus Kunstmuseum\" which contains less entries than the rest."
   ]
  },
  {
   "cell_type": "markdown",
   "id": "98457273",
   "metadata": {},
   "source": [
    "### Nr unique of `Total Parkplätze`"
   ]
  },
  {
   "cell_type": "code",
   "execution_count": null,
   "id": "3553eb12",
   "metadata": {},
   "outputs": [],
   "source": [
    "df[[\"title\", \"total\"]].groupby(\"title\").nunique()"
   ]
  },
  {
   "cell_type": "markdown",
   "id": "2a57b0ba",
   "metadata": {},
   "source": [
    "**Description:** Most garages have a constant number of parking spots for the duration of the dataset. However there are also two garages with 2 different totals: \"Parkhaus Bad. Bahnhof\" and \"Parkhaus Claramatte\". In a next step, we want to investigate the reason for this."
   ]
  },
  {
   "cell_type": "code",
   "execution_count": null,
   "id": "ba524151",
   "metadata": {},
   "outputs": [],
   "source": [
    "def show_total_spots_timeline(df, name, last_n_entries=None):\n",
    "    '''\n",
    "    Creates a lineplit with the total nr of available parking spots for as single garage\n",
    "    '''\n",
    "    df = df.copy()\n",
    "    df = df[df[\"title\"]==name][[\"published\", \"total\"]].sort_values(by = \"published\").reset_index(drop=True)\n",
    "    \n",
    "    df[\"published\"] = pd.to_datetime(df[\"published\"])\n",
    "    \n",
    "    if last_n_entries:\n",
    "        df = df[-last_n_entries:]\n",
    "        \n",
    "    df = df.sort_values(by=\"published\")\n",
    "    \n",
    "    plt.figure(figsize=(16,5))\n",
    "    plt.title(f\"Total nr of parking spots for: {name}\")\n",
    "    plt.plot(df[\"published\"], df[\"total\"])\n",
    "    plt.xlabel(\"Timeline\")\n",
    "    plt.ylabel(\"Total spots\")\n",
    "    plt.show()"
   ]
  },
  {
   "cell_type": "markdown",
   "id": "d6606119",
   "metadata": {},
   "source": [
    "### Timeline for \"Parkhaus Bad. Bahnhof\""
   ]
  },
  {
   "cell_type": "code",
   "execution_count": null,
   "id": "d3a92682",
   "metadata": {},
   "outputs": [],
   "source": [
    "show_total_spots_timeline(df, name = \"Parkhaus Bad. Bahnhof\")    \n",
    "show_total_spots_timeline(df, name = \"Parkhaus Bad. Bahnhof\", last_n_entries=7*24)"
   ]
  },
  {
   "cell_type": "markdown",
   "id": "c7b4da99",
   "metadata": {},
   "source": [
    "### Timeline for \"Parkhaus Claramatte\""
   ]
  },
  {
   "cell_type": "code",
   "execution_count": null,
   "id": "23fffdfa",
   "metadata": {},
   "outputs": [],
   "source": [
    "show_total_spots_timeline(df, name = \"Parkhaus Claramatte\")    \n",
    "show_total_spots_timeline(df, name = \"Parkhaus Claramatte\", last_n_entries=7*24)"
   ]
  },
  {
   "cell_type": "code",
   "execution_count": null,
   "id": "8e4a2594",
   "metadata": {},
   "outputs": [],
   "source": []
  }
 ],
 "metadata": {
  "kernelspec": {
   "display_name": "Python 3.9.7 ('CHX')",
   "language": "python",
   "name": "python3"
  },
  "language_info": {
   "codemirror_mode": {
    "name": "ipython",
    "version": 3
   },
   "file_extension": ".py",
   "mimetype": "text/x-python",
   "name": "python",
   "nbconvert_exporter": "python",
   "pygments_lexer": "ipython3",
   "version": "3.9.7"
  },
  "vscode": {
   "interpreter": {
    "hash": "057d6b5c822a08e260e2545f3eac92f3c5f4aa056129a9b0b6ff0670282fbdf0"
   }
  }
 },
 "nbformat": 4,
 "nbformat_minor": 5
}
