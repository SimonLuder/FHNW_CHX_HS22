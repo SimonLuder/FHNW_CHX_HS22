{
 "cells": [
  {
   "cell_type": "markdown",
   "id": "4a5fe453",
   "metadata": {},
   "source": [
    "# Time Series Exploratory Notebook"
   ]
  },
  {
   "cell_type": "code",
   "execution_count": 1,
   "id": "1752fb6e",
   "metadata": {},
   "outputs": [],
   "source": [
    "# load dependencies\n",
    "import matplotlib.pyplot as plt\n",
    "import statsmodels\n",
    "import pandas as pd"
   ]
  },
  {
   "cell_type": "markdown",
   "id": "5a33cbfc",
   "metadata": {},
   "source": [
    "## Historic Data"
   ]
  },
  {
   "cell_type": "markdown",
   "id": "099a0ee1",
   "metadata": {},
   "source": [
    "### Import data"
   ]
  },
  {
   "cell_type": "code",
   "execution_count": 2,
   "id": "1d4152ff",
   "metadata": {},
   "outputs": [],
   "source": [
    "# historic dataset\n",
    "path = \"../data/raw/\"\n",
    "file = \"100014.csv\"\n",
    "df = pd.read_csv(path + file, sep=\";\")"
   ]
  },
  {
   "cell_type": "markdown",
   "id": "eee1678c",
   "metadata": {},
   "source": [
    "### Dataset info"
   ]
  },
  {
   "cell_type": "code",
   "execution_count": 3,
   "id": "02b1d490",
   "metadata": {},
   "outputs": [
    {
     "name": "stdout",
     "output_type": "stream",
     "text": [
      "<class 'pandas.core.frame.DataFrame'>\n",
      "RangeIndex: 482557 entries, 0 to 482556\n",
      "Data columns (total 11 columns):\n",
      " #   Column            Non-Null Count   Dtype \n",
      "---  ------            --------------   ----- \n",
      " 0   Publikationszeit  482557 non-null  object\n",
      " 1   Anzahl frei       482557 non-null  int64 \n",
      " 2   id                482557 non-null  object\n",
      " 3   id2               482557 non-null  object\n",
      " 4   Titel             482557 non-null  object\n",
      " 5   Name              482557 non-null  object\n",
      " 6   Adresse           482557 non-null  object\n",
      " 7   Total Plätze      482557 non-null  int64 \n",
      " 8   link              482557 non-null  object\n",
      " 9   geo_point_2d      482557 non-null  object\n",
      " 10  Beschreibung      482557 non-null  object\n",
      "dtypes: int64(2), object(9)\n",
      "memory usage: 40.5+ MB\n"
     ]
    }
   ],
   "source": [
    "df.info()"
   ]
  },
  {
   "cell_type": "markdown",
   "id": "04ff4d8f",
   "metadata": {},
   "source": [
    "**Description:** There are 11 columns with information in the dataset. Most of them are of dtype object. Two columns `Anzahl frei` and `Total Plätze` are of type int64 which is a good sign since we only expect nummeric characters there."
   ]
  },
  {
   "cell_type": "markdown",
   "id": "354a77f2",
   "metadata": {},
   "source": [
    "### Columns with na values"
   ]
  },
  {
   "cell_type": "code",
   "execution_count": 4,
   "id": "c26ee2e2",
   "metadata": {},
   "outputs": [
    {
     "data": {
      "text/plain": [
       "Publikationszeit    False\n",
       "Anzahl frei         False\n",
       "id                  False\n",
       "id2                 False\n",
       "Titel               False\n",
       "Name                False\n",
       "Adresse             False\n",
       "Total Plätze        False\n",
       "link                False\n",
       "geo_point_2d        False\n",
       "Beschreibung        False\n",
       "dtype: bool"
      ]
     },
     "execution_count": 4,
     "metadata": {},
     "output_type": "execute_result"
    }
   ],
   "source": [
    "df.isna().any()"
   ]
  },
  {
   "cell_type": "markdown",
   "id": "bed72eb9",
   "metadata": {},
   "source": [
    "**Description:** There are no missing values in any columns of the historic dataset. All entries seem to be complete."
   ]
  },
  {
   "cell_type": "markdown",
   "id": "c100c9ff",
   "metadata": {},
   "source": [
    "### Nr of garages in the dataset"
   ]
  },
  {
   "cell_type": "code",
   "execution_count": 5,
   "id": "1938cb84",
   "metadata": {},
   "outputs": [
    {
     "data": {
      "text/html": [
       "<div>\n",
       "<style scoped>\n",
       "    .dataframe tbody tr th:only-of-type {\n",
       "        vertical-align: middle;\n",
       "    }\n",
       "\n",
       "    .dataframe tbody tr th {\n",
       "        vertical-align: top;\n",
       "    }\n",
       "\n",
       "    .dataframe thead th {\n",
       "        text-align: right;\n",
       "    }\n",
       "</style>\n",
       "<table border=\"1\" class=\"dataframe\">\n",
       "  <thead>\n",
       "    <tr style=\"text-align: right;\">\n",
       "      <th></th>\n",
       "      <th>id</th>\n",
       "      <th>id2</th>\n",
       "      <th>Titel</th>\n",
       "    </tr>\n",
       "  </thead>\n",
       "  <tbody>\n",
       "    <tr>\n",
       "      <th>0</th>\n",
       "      <td>baselparkhauspostbasel</td>\n",
       "      <td>postbasel</td>\n",
       "      <td>Parkhaus Post Basel</td>\n",
       "    </tr>\n",
       "    <tr>\n",
       "      <th>1</th>\n",
       "      <td>baselparkhausbahnhofsued</td>\n",
       "      <td>bahnhofsued</td>\n",
       "      <td>Parkhaus Bahnhof Süd</td>\n",
       "    </tr>\n",
       "    <tr>\n",
       "      <th>2</th>\n",
       "      <td>baselparkhausbadbahnhof</td>\n",
       "      <td>badbahnhof</td>\n",
       "      <td>Parkhaus Bad. Bahnhof</td>\n",
       "    </tr>\n",
       "    <tr>\n",
       "      <th>3</th>\n",
       "      <td>baselparkhauseurope</td>\n",
       "      <td>europe</td>\n",
       "      <td>Parkhaus Europe</td>\n",
       "    </tr>\n",
       "    <tr>\n",
       "      <th>4</th>\n",
       "      <td>baselparkhaussteinen</td>\n",
       "      <td>steinen</td>\n",
       "      <td>Parkhaus Steinen</td>\n",
       "    </tr>\n",
       "    <tr>\n",
       "      <th>5</th>\n",
       "      <td>baselparkhausstorchen</td>\n",
       "      <td>storchen</td>\n",
       "      <td>Parkhaus Storchen</td>\n",
       "    </tr>\n",
       "    <tr>\n",
       "      <th>6</th>\n",
       "      <td>baselparkhauscentralbahnparking</td>\n",
       "      <td>centralbahnparking</td>\n",
       "      <td>Parkhaus Centralbahnparking</td>\n",
       "    </tr>\n",
       "    <tr>\n",
       "      <th>7</th>\n",
       "      <td>baselparkhausaeschen</td>\n",
       "      <td>aeschen</td>\n",
       "      <td>Parkhaus Aeschen</td>\n",
       "    </tr>\n",
       "    <tr>\n",
       "      <th>8</th>\n",
       "      <td>baselparkhausanfos</td>\n",
       "      <td>anfos</td>\n",
       "      <td>Parkhaus Anfos</td>\n",
       "    </tr>\n",
       "    <tr>\n",
       "      <th>9</th>\n",
       "      <td>baselparkhauscity</td>\n",
       "      <td>city</td>\n",
       "      <td>Parkhaus City</td>\n",
       "    </tr>\n",
       "    <tr>\n",
       "      <th>10</th>\n",
       "      <td>baselparkhausrebgasse</td>\n",
       "      <td>rebgasse</td>\n",
       "      <td>Parkhaus Rebgasse</td>\n",
       "    </tr>\n",
       "    <tr>\n",
       "      <th>11</th>\n",
       "      <td>baselparkhauselisabethen</td>\n",
       "      <td>elisabethen</td>\n",
       "      <td>Parkhaus Elisabethen</td>\n",
       "    </tr>\n",
       "    <tr>\n",
       "      <th>12</th>\n",
       "      <td>baselparkhausclaramatte</td>\n",
       "      <td>claramatte</td>\n",
       "      <td>Parkhaus Claramatte</td>\n",
       "    </tr>\n",
       "    <tr>\n",
       "      <th>13</th>\n",
       "      <td>baselparkhauskunstmuseum</td>\n",
       "      <td>kunstmuseum</td>\n",
       "      <td>Parkhaus Kunstmuseum</td>\n",
       "    </tr>\n",
       "    <tr>\n",
       "      <th>14</th>\n",
       "      <td>baselparkhausmesse</td>\n",
       "      <td>messe</td>\n",
       "      <td>Parkhaus Messe</td>\n",
       "    </tr>\n",
       "    <tr>\n",
       "      <th>15</th>\n",
       "      <td>baselparkhausclarahuus</td>\n",
       "      <td>clarahuus</td>\n",
       "      <td>Parkhaus Clarahuus</td>\n",
       "    </tr>\n",
       "  </tbody>\n",
       "</table>\n",
       "</div>"
      ],
      "text/plain": [
       "                                 id                 id2  \\\n",
       "0            baselparkhauspostbasel           postbasel   \n",
       "1          baselparkhausbahnhofsued         bahnhofsued   \n",
       "2           baselparkhausbadbahnhof          badbahnhof   \n",
       "3               baselparkhauseurope              europe   \n",
       "4              baselparkhaussteinen             steinen   \n",
       "5             baselparkhausstorchen            storchen   \n",
       "6   baselparkhauscentralbahnparking  centralbahnparking   \n",
       "7              baselparkhausaeschen             aeschen   \n",
       "8                baselparkhausanfos               anfos   \n",
       "9                 baselparkhauscity                city   \n",
       "10            baselparkhausrebgasse            rebgasse   \n",
       "11         baselparkhauselisabethen         elisabethen   \n",
       "12          baselparkhausclaramatte          claramatte   \n",
       "13         baselparkhauskunstmuseum         kunstmuseum   \n",
       "14               baselparkhausmesse               messe   \n",
       "15           baselparkhausclarahuus           clarahuus   \n",
       "\n",
       "                          Titel  \n",
       "0           Parkhaus Post Basel  \n",
       "1          Parkhaus Bahnhof Süd  \n",
       "2         Parkhaus Bad. Bahnhof  \n",
       "3               Parkhaus Europe  \n",
       "4              Parkhaus Steinen  \n",
       "5             Parkhaus Storchen  \n",
       "6   Parkhaus Centralbahnparking  \n",
       "7              Parkhaus Aeschen  \n",
       "8                Parkhaus Anfos  \n",
       "9                 Parkhaus City  \n",
       "10            Parkhaus Rebgasse  \n",
       "11         Parkhaus Elisabethen  \n",
       "12          Parkhaus Claramatte  \n",
       "13         Parkhaus Kunstmuseum  \n",
       "14               Parkhaus Messe  \n",
       "15           Parkhaus Clarahuus  "
      ]
     },
     "execution_count": 5,
     "metadata": {},
     "output_type": "execute_result"
    }
   ],
   "source": [
    "df[[\"id\", \"id2\", \"Titel\"]].drop_duplicates().reset_index(drop=True)"
   ]
  },
  {
   "cell_type": "markdown",
   "id": "036b9f96",
   "metadata": {},
   "source": [
    "**Description:** There are a total of 16 distinct garages in the dataset. "
   ]
  },
  {
   "cell_type": "markdown",
   "id": "38362581",
   "metadata": {},
   "source": [
    "### Nr of entries per garage"
   ]
  },
  {
   "cell_type": "code",
   "execution_count": 6,
   "id": "da9d6f4c",
   "metadata": {},
   "outputs": [
    {
     "data": {
      "text/html": [
       "<div>\n",
       "<style scoped>\n",
       "    .dataframe tbody tr th:only-of-type {\n",
       "        vertical-align: middle;\n",
       "    }\n",
       "\n",
       "    .dataframe tbody tr th {\n",
       "        vertical-align: top;\n",
       "    }\n",
       "\n",
       "    .dataframe thead th {\n",
       "        text-align: right;\n",
       "    }\n",
       "</style>\n",
       "<table border=\"1\" class=\"dataframe\">\n",
       "  <thead>\n",
       "    <tr style=\"text-align: right;\">\n",
       "      <th></th>\n",
       "      <th>Publikationszeit</th>\n",
       "    </tr>\n",
       "    <tr>\n",
       "      <th>Titel</th>\n",
       "      <th></th>\n",
       "    </tr>\n",
       "  </thead>\n",
       "  <tbody>\n",
       "    <tr>\n",
       "      <th>Parkhaus Aeschen</th>\n",
       "      <td>31703</td>\n",
       "    </tr>\n",
       "    <tr>\n",
       "      <th>Parkhaus Anfos</th>\n",
       "      <td>31703</td>\n",
       "    </tr>\n",
       "    <tr>\n",
       "      <th>Parkhaus Bad. Bahnhof</th>\n",
       "      <td>31703</td>\n",
       "    </tr>\n",
       "    <tr>\n",
       "      <th>Parkhaus Bahnhof Süd</th>\n",
       "      <td>31703</td>\n",
       "    </tr>\n",
       "    <tr>\n",
       "      <th>Parkhaus Centralbahnparking</th>\n",
       "      <td>31703</td>\n",
       "    </tr>\n",
       "    <tr>\n",
       "      <th>Parkhaus City</th>\n",
       "      <td>31437</td>\n",
       "    </tr>\n",
       "    <tr>\n",
       "      <th>Parkhaus Clarahuus</th>\n",
       "      <td>31703</td>\n",
       "    </tr>\n",
       "    <tr>\n",
       "      <th>Parkhaus Claramatte</th>\n",
       "      <td>31703</td>\n",
       "    </tr>\n",
       "    <tr>\n",
       "      <th>Parkhaus Elisabethen</th>\n",
       "      <td>31703</td>\n",
       "    </tr>\n",
       "    <tr>\n",
       "      <th>Parkhaus Europe</th>\n",
       "      <td>31703</td>\n",
       "    </tr>\n",
       "    <tr>\n",
       "      <th>Parkhaus Kunstmuseum</th>\n",
       "      <td>7278</td>\n",
       "    </tr>\n",
       "    <tr>\n",
       "      <th>Parkhaus Messe</th>\n",
       "      <td>31703</td>\n",
       "    </tr>\n",
       "    <tr>\n",
       "      <th>Parkhaus Post Basel</th>\n",
       "      <td>31703</td>\n",
       "    </tr>\n",
       "    <tr>\n",
       "      <th>Parkhaus Rebgasse</th>\n",
       "      <td>31703</td>\n",
       "    </tr>\n",
       "    <tr>\n",
       "      <th>Parkhaus Steinen</th>\n",
       "      <td>31703</td>\n",
       "    </tr>\n",
       "    <tr>\n",
       "      <th>Parkhaus Storchen</th>\n",
       "      <td>31703</td>\n",
       "    </tr>\n",
       "  </tbody>\n",
       "</table>\n",
       "</div>"
      ],
      "text/plain": [
       "                             Publikationszeit\n",
       "Titel                                        \n",
       "Parkhaus Aeschen                        31703\n",
       "Parkhaus Anfos                          31703\n",
       "Parkhaus Bad. Bahnhof                   31703\n",
       "Parkhaus Bahnhof Süd                    31703\n",
       "Parkhaus Centralbahnparking             31703\n",
       "Parkhaus City                           31437\n",
       "Parkhaus Clarahuus                      31703\n",
       "Parkhaus Claramatte                     31703\n",
       "Parkhaus Elisabethen                    31703\n",
       "Parkhaus Europe                         31703\n",
       "Parkhaus Kunstmuseum                     7278\n",
       "Parkhaus Messe                          31703\n",
       "Parkhaus Post Basel                     31703\n",
       "Parkhaus Rebgasse                       31703\n",
       "Parkhaus Steinen                        31703\n",
       "Parkhaus Storchen                       31703"
      ]
     },
     "execution_count": 6,
     "metadata": {},
     "output_type": "execute_result"
    }
   ],
   "source": [
    "df[[\"Titel\", \"Publikationszeit\"]].groupby(\"Titel\").count()"
   ]
  },
  {
   "cell_type": "markdown",
   "id": "b46286ab",
   "metadata": {},
   "source": [
    "**Description:** There is only one garage: \"Parkhaus Kunstmuseum\" which contains less entries than the rest."
   ]
  },
  {
   "cell_type": "markdown",
   "id": "98457273",
   "metadata": {},
   "source": [
    "### Nr unique of `Total Parkplätze`"
   ]
  },
  {
   "cell_type": "code",
   "execution_count": 7,
   "id": "3553eb12",
   "metadata": {},
   "outputs": [
    {
     "data": {
      "text/html": [
       "<div>\n",
       "<style scoped>\n",
       "    .dataframe tbody tr th:only-of-type {\n",
       "        vertical-align: middle;\n",
       "    }\n",
       "\n",
       "    .dataframe tbody tr th {\n",
       "        vertical-align: top;\n",
       "    }\n",
       "\n",
       "    .dataframe thead th {\n",
       "        text-align: right;\n",
       "    }\n",
       "</style>\n",
       "<table border=\"1\" class=\"dataframe\">\n",
       "  <thead>\n",
       "    <tr style=\"text-align: right;\">\n",
       "      <th></th>\n",
       "      <th>Total Plätze</th>\n",
       "    </tr>\n",
       "    <tr>\n",
       "      <th>Titel</th>\n",
       "      <th></th>\n",
       "    </tr>\n",
       "  </thead>\n",
       "  <tbody>\n",
       "    <tr>\n",
       "      <th>Parkhaus Aeschen</th>\n",
       "      <td>1</td>\n",
       "    </tr>\n",
       "    <tr>\n",
       "      <th>Parkhaus Anfos</th>\n",
       "      <td>1</td>\n",
       "    </tr>\n",
       "    <tr>\n",
       "      <th>Parkhaus Bad. Bahnhof</th>\n",
       "      <td>2</td>\n",
       "    </tr>\n",
       "    <tr>\n",
       "      <th>Parkhaus Bahnhof Süd</th>\n",
       "      <td>1</td>\n",
       "    </tr>\n",
       "    <tr>\n",
       "      <th>Parkhaus Centralbahnparking</th>\n",
       "      <td>1</td>\n",
       "    </tr>\n",
       "    <tr>\n",
       "      <th>Parkhaus City</th>\n",
       "      <td>1</td>\n",
       "    </tr>\n",
       "    <tr>\n",
       "      <th>Parkhaus Clarahuus</th>\n",
       "      <td>1</td>\n",
       "    </tr>\n",
       "    <tr>\n",
       "      <th>Parkhaus Claramatte</th>\n",
       "      <td>2</td>\n",
       "    </tr>\n",
       "    <tr>\n",
       "      <th>Parkhaus Elisabethen</th>\n",
       "      <td>1</td>\n",
       "    </tr>\n",
       "    <tr>\n",
       "      <th>Parkhaus Europe</th>\n",
       "      <td>1</td>\n",
       "    </tr>\n",
       "    <tr>\n",
       "      <th>Parkhaus Kunstmuseum</th>\n",
       "      <td>1</td>\n",
       "    </tr>\n",
       "    <tr>\n",
       "      <th>Parkhaus Messe</th>\n",
       "      <td>1</td>\n",
       "    </tr>\n",
       "    <tr>\n",
       "      <th>Parkhaus Post Basel</th>\n",
       "      <td>1</td>\n",
       "    </tr>\n",
       "    <tr>\n",
       "      <th>Parkhaus Rebgasse</th>\n",
       "      <td>1</td>\n",
       "    </tr>\n",
       "    <tr>\n",
       "      <th>Parkhaus Steinen</th>\n",
       "      <td>1</td>\n",
       "    </tr>\n",
       "    <tr>\n",
       "      <th>Parkhaus Storchen</th>\n",
       "      <td>1</td>\n",
       "    </tr>\n",
       "  </tbody>\n",
       "</table>\n",
       "</div>"
      ],
      "text/plain": [
       "                             Total Plätze\n",
       "Titel                                    \n",
       "Parkhaus Aeschen                        1\n",
       "Parkhaus Anfos                          1\n",
       "Parkhaus Bad. Bahnhof                   2\n",
       "Parkhaus Bahnhof Süd                    1\n",
       "Parkhaus Centralbahnparking             1\n",
       "Parkhaus City                           1\n",
       "Parkhaus Clarahuus                      1\n",
       "Parkhaus Claramatte                     2\n",
       "Parkhaus Elisabethen                    1\n",
       "Parkhaus Europe                         1\n",
       "Parkhaus Kunstmuseum                    1\n",
       "Parkhaus Messe                          1\n",
       "Parkhaus Post Basel                     1\n",
       "Parkhaus Rebgasse                       1\n",
       "Parkhaus Steinen                        1\n",
       "Parkhaus Storchen                       1"
      ]
     },
     "execution_count": 7,
     "metadata": {},
     "output_type": "execute_result"
    }
   ],
   "source": [
    "df[[\"Titel\", \"Total Plätze\"]].groupby(\"Titel\").nunique()"
   ]
  },
  {
   "cell_type": "markdown",
   "id": "2a57b0ba",
   "metadata": {},
   "source": [
    "**Description:** Most garages have a constant number of parking spots for the duration of the dataset. However there are also two garages with 2 different totals: \"Parkhaus Bad. Bahnhof\" and \"Parkhaus Claramatte\". In a next step, we want to investigate the reason for this."
   ]
  },
  {
   "cell_type": "code",
   "execution_count": 8,
   "id": "ba524151",
   "metadata": {},
   "outputs": [],
   "source": [
    "def show_total_spots_timeline(df, name, last_n_entries=None):\n",
    "    '''\n",
    "    Creates a lineplit with the total nr of available parking spots for as single garage\n",
    "    '''\n",
    "    df = df.copy()\n",
    "    df = df[df[\"Titel\"]==name][[\"Publikationszeit\", \"Total Plätze\"]].sort_values(by = \"Publikationszeit\").reset_index(drop=True)\n",
    "    \n",
    "    df[\"Publikationszeit\"] = pd.to_datetime(df[\"Publikationszeit\"])\n",
    "    \n",
    "    if last_n_entries:\n",
    "        df = df[-last_n_entries:]\n",
    "        \n",
    "    df = df.sort_values(by=\"Publikationszeit\")\n",
    "    \n",
    "    plt.figure(figsize=(16,5))\n",
    "    plt.title(f\"Total nr of parking spots for: {name}\")\n",
    "    plt.plot(df[\"Publikationszeit\"], df[\"Total Plätze\"])\n",
    "    plt.xlabel(\"Timeline\")\n",
    "    plt.ylabel(\"Total spots\")\n",
    "    plt.show()"
   ]
  },
  {
   "cell_type": "markdown",
   "id": "d6606119",
   "metadata": {},
   "source": [
    "### Timeline for \"Parkhaus Bad. Bahnhof\""
   ]
  },
  {
   "cell_type": "code",
   "execution_count": 9,
   "id": "d3a92682",
   "metadata": {},
   "outputs": [
    {
     "data": {
      "image/png": "[encoded data removed]",
      "text/plain": [
       "<Figure size 1152x360 with 1 Axes>"
      ]
     },
     "metadata": {
      "needs_background": "light"
     },
     "output_type": "display_data"
    },
    {
     "data": {
      "image/png": "[encoded data removed]",
      "text/plain": [
       "<Figure size 1152x360 with 1 Axes>"
      ]
     },
     "metadata": {
      "needs_background": "light"
     },
     "output_type": "display_data"
    }
   ],
   "source": [
    "show_total_spots_timeline(df, name = \"Parkhaus Bad. Bahnhof\")    \n",
    "show_total_spots_timeline(df, name = \"Parkhaus Bad. Bahnhof\", last_n_entries=7*24)"
   ]
  },
  {
   "cell_type": "markdown",
   "id": "c7b4da99",
   "metadata": {},
   "source": [
    "### Timeline for \"Parkhaus Claramatte\""
   ]
  },
  {
   "cell_type": "code",
   "execution_count": 10,
   "id": "23fffdfa",
   "metadata": {},
   "outputs": [
    {
     "data": {
      "image/png": "[encoded data removed]",
      "text/plain": [
       "<Figure size 1152x360 with 1 Axes>"
      ]
     },
     "metadata": {
      "needs_background": "light"
     },
     "output_type": "display_data"
    },
    {
     "data": {
      "image/png": "[encoded data removed]",
      "text/plain": [
       "<Figure size 1152x360 with 1 Axes>"
      ]
     },
     "metadata": {
      "needs_background": "light"
     },
     "output_type": "display_data"
    }
   ],
   "source": [
    "show_total_spots_timeline(df, name = \"Parkhaus Claramatte\")    \n",
    "show_total_spots_timeline(df, name = \"Parkhaus Claramatte\", last_n_entries=7*24)"
   ]
  },
  {
   "cell_type": "code",
   "execution_count": null,
   "id": "8e4a2594",
   "metadata": {},
   "outputs": [],
   "source": []
  }
 ],
 "metadata": {
  "kernelspec": {
   "display_name": "Python 3 (ipykernel)",
   "language": "python",
   "name": "python3"
  },
  "language_info": {
   "codemirror_mode": {
    "name": "ipython",
    "version": 3
   },
   "file_extension": ".py",
   "mimetype": "text/x-python",
   "name": "python",
   "nbconvert_exporter": "python",
   "pygments_lexer": "ipython3",
   "version": "3.9.7"
  }
 },
 "nbformat": 4,
 "nbformat_minor": 5
}
