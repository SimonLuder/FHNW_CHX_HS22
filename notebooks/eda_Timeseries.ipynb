{
 "cells": [
  {
   "cell_type": "markdown",
   "id": "4a5fe453",
   "metadata": {},
   "source": [
    "# Time Series Exploratory Notebook"
   ]
  },
  {
   "cell_type": "code",
   "execution_count": null,
   "id": "1752fb6e",
   "metadata": {},
   "outputs": [],
   "source": [
    "# load dependencies\n",
    "import matplotlib.pyplot as plt\n",
    "import statsmodels\n",
    "import pandas as pd\n",
    "import numpy as np"
   ]
  },
  {
   "cell_type": "markdown",
   "id": "5a33cbfc",
   "metadata": {},
   "source": [
    "## Historic Data"
   ]
  },
  {
   "cell_type": "markdown",
   "id": "099a0ee1",
   "metadata": {},
   "source": [
    "### Import data"
   ]
  },
  {
   "cell_type": "code",
   "execution_count": null,
   "id": "1d4152ff",
   "metadata": {},
   "outputs": [],
   "source": [
    "# historic dataset\n",
    "path = \"../data/raw/\"\n",
    "file = \"100014.csv\"\n",
    "df = pd.read_csv(path + file, sep=\";\")"
   ]
  },
  {
   "cell_type": "markdown",
   "id": "eee1678c",
   "metadata": {},
   "source": [
    "### Dataset info"
   ]
  },
  {
   "cell_type": "code",
   "execution_count": null,
   "id": "02b1d490",
   "metadata": {},
   "outputs": [],
   "source": [
    "df.info()"
   ]
  },
  {
   "cell_type": "markdown",
   "id": "04ff4d8f",
   "metadata": {},
   "source": [
    "**Description:** There are 11 columns with information in the dataset. Most of them are of dtype object. Two columns `Anzahl frei` and `Total Plätze` are of type int64 which is a good sign since we only expect nummeric characters there."
   ]
  },
  {
   "cell_type": "markdown",
   "id": "354a77f2",
   "metadata": {},
   "source": [
    "### Columns with na values"
   ]
  },
  {
   "cell_type": "code",
   "execution_count": null,
   "id": "c26ee2e2",
   "metadata": {},
   "outputs": [],
   "source": [
    "df.isna().any()"
   ]
  },
  {
   "cell_type": "markdown",
   "id": "bed72eb9",
   "metadata": {},
   "source": [
    "**Description:** There are no missing values in any columns of the historic dataset. All entries seem to be complete."
   ]
  },
  {
   "cell_type": "markdown",
   "id": "c100c9ff",
   "metadata": {},
   "source": [
    "### Nr of garages in the dataset"
   ]
  },
  {
   "cell_type": "code",
   "execution_count": null,
   "id": "1938cb84",
   "metadata": {},
   "outputs": [],
   "source": [
    "df[[\"id\", \"id2\", \"title\"]].drop_duplicates().reset_index(drop=True)"
   ]
  },
  {
   "cell_type": "markdown",
   "id": "036b9f96",
   "metadata": {},
   "source": [
    "**Description:** There are a total of 16 distinct garages in the dataset. "
   ]
  },
  {
   "cell_type": "markdown",
   "id": "38362581",
   "metadata": {},
   "source": [
    "### Nr of entries per garage"
   ]
  },
  {
   "cell_type": "code",
   "execution_count": null,
   "id": "da9d6f4c",
   "metadata": {},
   "outputs": [],
   "source": [
    "df[[\"title\", \"published\"]].groupby(\"title\").count()"
   ]
  },
  {
   "cell_type": "markdown",
   "id": "b46286ab",
   "metadata": {},
   "source": [
    "**Description:** There are only two garage: \"Parkhaus Kunstmuseum\" and \"Parkhaus City\" which contain less entries than the rest."
   ]
  },
  {
   "cell_type": "markdown",
   "id": "98457273",
   "metadata": {},
   "source": [
    "### Nr unique of `Total Parkplätze`"
   ]
  },
  {
   "cell_type": "code",
   "execution_count": null,
   "id": "3553eb12",
   "metadata": {},
   "outputs": [],
   "source": [
    "df[[\"title\", \"total\"]].groupby(\"title\").nunique()"
   ]
  },
  {
   "cell_type": "markdown",
   "id": "2a57b0ba",
   "metadata": {},
   "source": [
    "**Description:** Most garages have a constant number of parking spots for the duration of the dataset. However there are also two garages with 2 different totals: \"Parkhaus Bad. Bahnhof\" and \"Parkhaus Claramatte\". In a next step, we want to investigate the reason for this."
   ]
  },
  {
   "cell_type": "code",
   "execution_count": null,
   "id": "ba524151",
   "metadata": {},
   "outputs": [],
   "source": [
    "def show_total_spots_timeline(df, name, last_n_entries=None):\n",
    "    '''\n",
    "    Creates a lineplot with the total nr of available parking spots for as single garage\n",
    "    '''\n",
    "    df = df.copy()\n",
    "    df = df[df[\"title\"]==name][[\"published\", \"total\"]].sort_values(by = \"published\").reset_index(drop=True)\n",
    "    \n",
    "    df[\"published\"] = pd.to_datetime(df[\"published\"])\n",
    "    \n",
    "    if last_n_entries:\n",
    "        df = df[-last_n_entries:]\n",
    "        \n",
    "    df = df.sort_values(by=\"published\")\n",
    "    \n",
    "    plt.figure(figsize=(16,5))\n",
    "    plt.title(f\"Total nr of parking spots for: {name}\")\n",
    "    plt.plot(df[\"published\"], df[\"total\"])\n",
    "    plt.xlabel(\"Timeline\")\n",
    "    plt.ylabel(\"Total spots\")\n",
    "    plt.show()"
   ]
  },
  {
   "cell_type": "markdown",
   "id": "d6606119",
   "metadata": {},
   "source": [
    "### Timeline for \"Parkhaus Bad. Bahnhof\""
   ]
  },
  {
   "cell_type": "code",
   "execution_count": null,
   "id": "d3a92682",
   "metadata": {},
   "outputs": [],
   "source": [
    "show_total_spots_timeline(df, name = \"Parkhaus Bad. Bahnhof\")    \n",
    "show_total_spots_timeline(df, name = \"Parkhaus Bad. Bahnhof\", last_n_entries=7*24)"
   ]
  },
  {
   "cell_type": "markdown",
   "id": "c7b4da99",
   "metadata": {},
   "source": [
    "### Timeline for \"Parkhaus Claramatte\""
   ]
  },
  {
   "cell_type": "code",
   "execution_count": null,
   "id": "23fffdfa",
   "metadata": {},
   "outputs": [],
   "source": [
    "show_total_spots_timeline(df, name = \"Parkhaus Claramatte\")    \n",
    "show_total_spots_timeline(df, name = \"Parkhaus Claramatte\", last_n_entries=7*24)"
   ]
  },
  {
   "cell_type": "markdown",
   "id": "8e4a2594",
   "metadata": {},
   "source": [
    "The parking garages can sometimes change the number of public parking spaces. The exact reason is unknown. The following link has more information about it.\n",
    "\n",
    "https://data.bs.ch/explore/dataset/100014/comments/?disjunctive.title&sort=published&dataChart=eyJxdWVyaWVzIjpbeyJjaGFydHMiOlt7InR5cGUiOiJsaW5lIiwiZnVuYyI6Ik1JTiIsInlBeGlzIjoiZnJlZSIsInNjaWVudGlmaWNEaXNwbGF5Ijp0cnVlLCJjb2xvciI6InJhbmdlLUFjY2VudCJ9XSwieEF4aXMiOiJwdWJsaXNoZWQiLCJtYXhwb2ludHMiOiIiLCJ0aW1lc2NhbGUiOiJob3VyIiwic29ydCI6IiIsInNlcmllc0JyZWFrZG93biI6InRpdGxlIiwiY29uZmlnIjp7ImRhdGFzZXQiOiIxMDAwMTQiLCJvcHRpb25zIjp7ImRpc2p1bmN0aXZlLnRpdGxlIjp0cnVlLCJzb3J0IjoicHVibGlzaGVkIn19fV0sImRpc3BsYXlMZWdlbmQiOnRydWUsImFsaWduTW9udGgiOnRydWV9 \n",
    "\n"
   ]
  },
  {
   "cell_type": "markdown",
   "id": "c4c9bb13",
   "metadata": {},
   "source": [
    "### delete not used columns"
   ]
  },
  {
   "cell_type": "code",
   "execution_count": null,
   "id": "b9f2d41d",
   "metadata": {},
   "outputs": [],
   "source": [
    "df"
   ]
  },
  {
   "cell_type": "code",
   "execution_count": null,
   "id": "f26fdace",
   "metadata": {},
   "outputs": [],
   "source": [
    "df_modified = df[['published', 'free', 'id2', 'total', 'geo_point_2d']].copy()"
   ]
  },
  {
   "cell_type": "markdown",
   "id": "ea416fb5",
   "metadata": {},
   "source": [
    "### Datatypes"
   ]
  },
  {
   "cell_type": "code",
   "execution_count": null,
   "id": "026ff36a",
   "metadata": {},
   "outputs": [],
   "source": [
    "df_modified.published = pd.to_datetime(df_modified.published)\n",
    "print('date check')\n",
    "# df_modified['id2'] = df_modified['id2'].apply(lambda x: str(x))\n",
    "df_modified['id2'] = df_modified['id2'].astype(str)\n",
    "print('string check')\n",
    "df_modified['geo_point_2d'] = df_modified['geo_point_2d'].astype(str)\n",
    "df_modified['latitude'] = df_modified.geo_point_2d.apply(lambda x: x.strip().split(',')[0])\n",
    "df_modified['longitude'] = df_modified.geo_point_2d.apply(lambda x: x.strip().split(',')[1])\n",
    "\n",
    "df_modified['latitude'] = df_modified.latitude.astype(float)\n",
    "df_modified['longitude'] = df_modified.longitude.astype(float)\n",
    "df_modified.drop('geo_point_2d', axis=1, inplace=True)"
   ]
  },
  {
   "cell_type": "code",
   "execution_count": null,
   "id": "bb239bc7",
   "metadata": {},
   "outputs": [],
   "source": [
    "df_modified.info()\n",
    "df_modified"
   ]
  },
  {
   "cell_type": "markdown",
   "id": "c55f75fb",
   "metadata": {},
   "source": [
    "### repeated lines"
   ]
  },
  {
   "cell_type": "code",
   "execution_count": null,
   "id": "9a3bc878",
   "metadata": {},
   "outputs": [],
   "source": [
    "df_modified.duplicated().sum()"
   ]
  },
  {
   "cell_type": "markdown",
   "id": "c0520d44",
   "metadata": {},
   "source": [
    "There are no duplicated rows"
   ]
  },
  {
   "cell_type": "markdown",
   "id": "5615f26d",
   "metadata": {},
   "source": [
    "### checking data with logical conditions "
   ]
  },
  {
   "cell_type": "markdown",
   "id": "9a2d1236",
   "metadata": {},
   "source": [
    "**All dates should be consecutive**"
   ]
  },
  {
   "cell_type": "code",
   "execution_count": null,
   "id": "57f22429",
   "metadata": {},
   "outputs": [],
   "source": [
    "date_number = df_modified.groupby('published').size()\n",
    "date_number"
   ]
  },
  {
   "cell_type": "code",
   "execution_count": null,
   "id": "8af5c92b",
   "metadata": {},
   "outputs": [],
   "source": [
    "date_number"
   ]
  },
  {
   "cell_type": "code",
   "execution_count": null,
   "id": "bb88b970",
   "metadata": {},
   "outputs": [],
   "source": [
    "all = date_number.count()\n",
    "a16 = (date_number==16).sum()\n",
    "a15 = (date_number==15).sum()\n",
    "print((a16 + a15) == all)"
   ]
  },
  {
   "cell_type": "markdown",
   "id": "d79f9733",
   "metadata": {},
   "source": [
    "For every date we have 15 or 16 entries. This means that for every date are enough entries."
   ]
  },
  {
   "cell_type": "code",
   "execution_count": null,
   "id": "40931ef3",
   "metadata": {},
   "outputs": [],
   "source": [
    "leng = len([i for i in date_number.index])\n",
    "plt.scatter(y=range(leng), x=[date_number.index])"
   ]
  },
  {
   "cell_type": "markdown",
   "id": "1bc821f9",
   "metadata": {},
   "source": [
    "The dates are consecutive"
   ]
  },
  {
   "cell_type": "code",
   "execution_count": null,
   "id": "679a33c3",
   "metadata": {},
   "outputs": [],
   "source": [
    "df_modified.groupby(['id2', 'total']).size()"
   ]
  },
  {
   "cell_type": "markdown",
   "id": "68583e70",
   "metadata": {},
   "source": [
    "Two garages don't have data for the whole time (city and kunstmuseum). The other have data for the whole period. The total number of places stays the same except the two garages we analysed above."
   ]
  },
  {
   "cell_type": "markdown",
   "id": "18b9be47",
   "metadata": {},
   "source": [
    "**Number of free parking spots should always be less or equal to the total number**"
   ]
  },
  {
   "cell_type": "code",
   "execution_count": null,
   "id": "b609dc5d",
   "metadata": {},
   "outputs": [],
   "source": [
    "df_modified[df_modified['free'] > df_modified['total']]"
   ]
  },
  {
   "cell_type": "markdown",
   "id": "095d9f78",
   "metadata": {},
   "source": [
    "There are rows that have more free parking spots than total parking spots."
   ]
  },
  {
   "cell_type": "markdown",
   "id": "12147c3c",
   "metadata": {},
   "source": [
    "Analysis of the lines with too much free parking spots"
   ]
  },
  {
   "cell_type": "code",
   "execution_count": null,
   "id": "9cf998b7",
   "metadata": {},
   "outputs": [],
   "source": [
    "df_too_much_free = df_modified[df_modified['free'] > df_modified['total']]\n",
    "df_too_much_free.groupby('id2').size().sort_values(ascending=False).plot(kind='bar', figsize=(16,5))\n",
    "plt.title('how many times a parking garage had more free spots than total available')\n",
    "plt.ylabel('number of lines with more free spots than total available')\n",
    "plt.xlabel('parking garage')\n",
    "plt.show()"
   ]
  },
  {
   "cell_type": "code",
   "execution_count": null,
   "id": "26299879",
   "metadata": {},
   "outputs": [],
   "source": [
    "def list_too_much_free(parking):\n",
    "    '''\n",
    "    returns a list with lists. The inner lists contain a series of indexer for all the times a parking garage had more free spots than total available\n",
    "    plus the one before and after\n",
    "    '''\n",
    "    df_parking = df_modified[df_modified['id2'] == parking].reset_index(drop=True)\n",
    "    list_with_periods = []\n",
    "    i = 0\n",
    "    while i < df_parking.shape[0]:\n",
    "        if i != 0:\n",
    "            if df_parking.loc[i, 'free'] > df_parking.loc[i, 'total']:\n",
    "                list_ = []\n",
    "                while df_parking.loc[i, 'free'] > df_parking.loc[i, 'total']:\n",
    "                    if df_parking.loc[i, 'free'] > df_parking.loc[i, 'total']:\n",
    "                        if df_parking.loc[i-1, 'free'] > df_parking.loc[i-1, 'total']:\n",
    "                            list_.append(i)\n",
    "                        elif df_parking.loc[i+1, 'free'] > df_parking.loc[i+1, 'total']:\n",
    "                            list_.append(i)\n",
    "                        elif df_parking.loc[i+1, 'free'] < df_parking.loc[i+1, 'total']:\n",
    "                            list_.append(i)\n",
    "                            list_.append(i+1)\n",
    "                        else:\n",
    "                            list_.append(i-1)\n",
    "                            list_.append(i)\n",
    "                    i += 1\n",
    "                list_with_periods.append(list_)\n",
    "            else:\n",
    "                i += 1\n",
    "        else: \n",
    "            list_ = []\n",
    "            if df_parking.loc[i, 'free'] > df_parking.loc[i, 'total']:\n",
    "                while df_parking.loc[i, 'free'] > df_parking.loc[i, 'total']:\n",
    "                    if df_parking.loc[i, 'free'] > df_parking.loc[i, 'total']:\n",
    "                        if df_parking.loc[i+1, 'free'] > df_parking.loc[i+1, 'total']:\n",
    "                            list_.append(i)\n",
    "                        elif df_parking.loc[i+1, 'free'] < df_parking.loc[i+1, 'total']:\n",
    "                            list_.append(i)\n",
    "                            list_.append(i+1)\n",
    "                    i += 1\n",
    "                list_with_periods.append(list_)\n",
    "            else:\n",
    "                i += 1\n",
    "    return list_with_periods"
   ]
  },
  {
   "cell_type": "code",
   "execution_count": null,
   "id": "299d7499",
   "metadata": {},
   "outputs": [],
   "source": [
    "postbasel_free = list_too_much_free('postbasel')\n",
    "df_postbasel = df_modified[df_modified['id2'] == 'postbasel'].reset_index(drop=True)"
   ]
  },
  {
   "cell_type": "code",
   "execution_count": null,
   "id": "28ab97c6",
   "metadata": {},
   "outputs": [],
   "source": [
    "list_diff = [np.absolute(df_postbasel.loc[i[0], 'free'] - df_postbasel.loc[i[-1], 'free']) for i in postbasel_free]\n",
    "plt.hist(100*(list_diff/df_postbasel.loc[0,'total']), bins=30)\n",
    "plt.title('difference between the value before the value with too much spots and the value after the value with too much spots for postbasel')\n",
    "plt.ylabel('count')\n",
    "plt.xlabel('change in %')\n",
    "plt.show()\n",
    "print(np.mean(list_diff))\n",
    "print(np.std(list_diff))"
   ]
  },
  {
   "cell_type": "code",
   "execution_count": null,
   "id": "77e01136",
   "metadata": {},
   "outputs": [],
   "source": [
    "list_centralbahnparking = list_too_much_free('centralbahnparking')\n",
    "df_centralbahnparking = df_modified[df_modified['id2'] == 'centralbahnparking'].reset_index(drop=True)"
   ]
  },
  {
   "cell_type": "code",
   "execution_count": null,
   "id": "a17d487f",
   "metadata": {},
   "outputs": [],
   "source": [
    "list_diff = [np.absolute(df_centralbahnparking.loc[i[0], 'free'] - df_centralbahnparking.loc[i[-1], 'free']) for i in list_centralbahnparking]\n",
    "plt.boxplot(100*(list_diff/df_centralbahnparking.loc[0,'total']))\n",
    "plt.title('difference between the value before the value with too much spots and the value after the value with too much spots for central bahn parking')\n",
    "plt.ylabel('difference')\n",
    "plt.show()\n",
    "print(np.mean(list_diff))\n",
    "print(np.std(list_diff))"
   ]
  },
  {
   "cell_type": "code",
   "execution_count": null,
   "id": "f6c5fb0c",
   "metadata": {},
   "outputs": [],
   "source": [
    "list_badbahnhof = list_too_much_free('badbahnhof')\n",
    "df_badbahnhof = df_modified[df_modified['id2'] == 'badbahnhof'].reset_index(drop=True)"
   ]
  },
  {
   "cell_type": "code",
   "execution_count": null,
   "id": "9ecb1e6e",
   "metadata": {},
   "outputs": [],
   "source": [
    "list_diff = [np.absolute(df_badbahnhof.loc[i[0], 'free'] - df_badbahnhof.loc[i[-1], 'free']) for i in list_badbahnhof]\n",
    "plt.boxplot(100*(list_diff/df_badbahnhof.loc[0,'total']))\n",
    "plt.title('difference between the value before the value with too much spots and the value after the value with too much spots for badischer bahnhof')\n",
    "plt.ylabel('difference')\n",
    "plt.show()\n",
    "print(np.mean(list_diff))\n",
    "print(np.std(list_diff))"
   ]
  },
  {
   "cell_type": "code",
   "execution_count": null,
   "id": "f6c5fb0c",
   "metadata": {},
   "outputs": [],
   "source": [
    "list_clarahuus = list_too_much_free('clarahuus')\n",
    "df_clarahuus = df_modified[df_modified['id2'] == 'clarahuus'].reset_index(drop=True)"
   ]
  },
  {
   "cell_type": "code",
   "execution_count": null,
   "id": "9ecb1e6e",
   "metadata": {},
   "outputs": [],
   "source": [
    "list_diff = [np.absolute(df_clarahuus.loc[i[0], 'free'] - df_clarahuus.loc[i[-1], 'free']) for i in list_clarahuus]\n",
    "plt.boxplot(list_diff)\n",
    "plt.title('difference between the value before the value with too much spots and the value after the value with too much spots for clarahuus')\n",
    "plt.ylabel('difference')\n",
    "plt.show()\n",
    "print(np.mean(list_diff))\n",
    "print(np.std(list_diff))"
   ]
  },
  {
   "cell_type": "code",
   "execution_count": null,
   "id": "a9ea661f",
   "metadata": {},
   "outputs": [],
   "source": [
    "list_messe = list_too_much_free('messe')\n",
    "df_messe = df_modified[df_modified['id2'] == 'messe'].reset_index(drop=True)"
   ]
  },
  {
   "cell_type": "code",
   "execution_count": null,
   "id": "3862afe7",
   "metadata": {},
   "outputs": [],
   "source": [
    "list_diff = [np.absolute(df_messe.loc[i[0], 'free'] - df_messe.loc[i[-1], 'free']) for i in list_messe]\n",
    "plt.boxplot(list_diff)\n",
    "plt.title('difference between the value before the value with too much spots and the value after the value with too much spots for messe')\n",
    "plt.ylabel('difference')\n",
    "plt.show()\n",
    "print(np.mean(list_diff))\n",
    "print(np.std(list_diff))"
   ]
  },
  {
   "cell_type": "code",
   "execution_count": null,
   "id": "ba7483d9",
   "metadata": {},
   "outputs": [],
   "source": [
    "list_bahnhofsued = list_too_much_free('bahnhofsued')\n",
    "df_bahnhofsued = df_modified[df_modified['id2'] == 'bahnhofsued'].reset_index(drop=True)"
   ]
  },
  {
   "cell_type": "code",
   "execution_count": null,
   "id": "33ddfbe6",
   "metadata": {},
   "outputs": [],
   "source": [
    "list_diff = [np.absolute(df_bahnhofsued.loc[i[0], 'free'] - df_bahnhofsued.loc[i[-1], 'free']) for i in list_bahnhofsued]\n",
    "plt.boxplot(list_diff)\n",
    "plt.title('difference between the value before the value with too much spots and the value after the value with too much spots for bahnhof süd')\n",
    "plt.ylabel('difference')\n",
    "plt.show()\n",
    "print(np.mean(list_diff))\n",
    "print(np.std(list_diff))"
   ]
  },
  {
   "cell_type": "markdown",
   "id": "009ee609",
   "metadata": {},
   "source": [
    "Claramatte is deleted because almost 1/3 of the data is wrong.\n",
    "\n",
    "In the other parkings, the free spots (where free parking spots > total spots) are set to Nan's. Then this nans are interpolated. The interpolation is done with the method \"linear\". This means that the values are interpolated with the values of the previous and next entry. This is done for every garage separately. If several Nan's are in a row, the interpolation is done with the values of the previous and next entry that are not Nan's (also linear)."
   ]
  },
  {
   "cell_type": "code",
   "execution_count": null,
   "id": "9fb08037",
   "metadata": {},
   "outputs": [],
   "source": [
    "# replace all free parkings with nan if free is bigger than total\n",
    "def replace_with_nan(df):\n",
    "    i = 0\n",
    "    while i < len(df):\n",
    "        if df.loc[i, 'free'] > df.loc[i, 'total']:\n",
    "            df.loc[i, 'free'] = np.nan\n",
    "            i += 1\n",
    "        else:\n",
    "            i += 1\n",
    "    return df\n",
    "df_cleaned = replace_with_nan(df_modified)"
   ]
  },
  {
   "cell_type": "code",
   "execution_count": null,
   "id": "1506e1d0",
   "metadata": {},
   "outputs": [],
   "source": [
    "df_cleaned[(df_cleaned['id2'] == 'postbasel') & df_cleaned['free'].isna()]\n",
    "df_cleaned[(df_cleaned['id2'] == 'postbasel')].loc[6458:6465,:]"
   ]
  },
  {
   "cell_type": "code",
   "execution_count": null,
   "id": "2fd97082",
   "metadata": {},
   "outputs": [],
   "source": [
    "df_cleaned[(df_cleaned['id2'] == 'postbasel')].interpolate(method='linear').loc[6458:6465,:].round()"
   ]
  },
  {
   "cell_type": "code",
   "execution_count": null,
   "id": "59513ffc",
   "metadata": {},
   "outputs": [],
   "source": [
    "# # create a timeseries dataframe\n",
    "# df_timeseries = df_cleaned[['id2', 'free', 'published']]\n",
    "# df_timeseries = df_timeseries.pivot(index='published', columns='id2', values='free')\n",
    "# df_timeseries"
   ]
  },
  {
   "cell_type": "code",
   "execution_count": null,
   "id": "840fe9af",
   "metadata": {},
   "outputs": [],
   "source": [
    "# # df with information about the parkings\n",
    "# df_parking = df_cleaned.groupby(['id2']).agg({'total': ['min', 'max'], 'latitude': ['max'], 'longitude': ['max']})\n",
    "# df_parking"
   ]
  },
  {
   "cell_type": "code",
   "execution_count": null,
   "id": "3c23cbd6",
   "metadata": {},
   "outputs": [],
   "source": [
    "# # create a timeseries dataframe\n",
    "\n",
    "for i in df_cleaned['id2'].unique():\n",
    "    df_cleaned.loc[df_cleaned['id2'] == i,'free'] = df_cleaned.loc[df_cleaned['id2'] == i,'free'].interpolate(method='linear')\n",
    "# df_cleaned = df_cleaned.iloc[:-2,:]\n",
    "df_cleaned[df_cleaned['free'].isna()]\n",
    "# df_cleaned['free'] = df_cleaned['free'].round().astype(int)"
   ]
  },
  {
   "cell_type": "code",
   "execution_count": null,
   "id": "168b92bd",
   "metadata": {},
   "outputs": [],
   "source": [
    "all_lines = 0\n",
    "for i in df['free'].unique():\n",
    "    print(i, df[df['id2']==i].shape)\n",
    "    all_lines += i[1].shape[0]\n",
    "print(all_lines)"
   ]
  },
  {
   "cell_type": "markdown",
   "id": "93b252aa",
   "metadata": {},
   "source": [
    "The final dataframe we get, contains all the data for all the parkings"
   ]
  },
  {
   "cell_type": "markdown",
   "id": "12692f66",
   "metadata": {},
   "source": [
    "**all parkings should have the same coordinates**"
   ]
  },
  {
   "cell_type": "code",
   "execution_count": null,
   "id": "90767e25",
   "metadata": {},
   "outputs": [],
   "source": [
    "df_modified.groupby(['id2', 'lattitude']).size()"
   ]
  },
  {
   "cell_type": "markdown",
   "id": "f07ebc72",
   "metadata": {},
   "source": [
    "For every garage is only one coordinate."
   ]
  },
  {
   "cell_type": "markdown",
   "id": "d41a72d2",
   "metadata": {},
   "source": [
    "### Timeseries for every garage"
   ]
  },
  {
   "cell_type": "code",
   "execution_count": null,
   "id": "e71f1326",
   "metadata": {},
   "outputs": [],
   "source": [
    "# n_weeks is approximately the number of weeks to be shown\n",
    "n_weeks=1\n",
    "garages = df_modified.id2.unique()\n",
    "for i in garages:\n",
    "    g1 = df[df['id2'] == i]\n",
    "    plt.plot(g1.published[-188*n_weeks:], g1.free[-188*n_weeks:])\n",
    "    print('check')\n",
    "    plt.title('Timeseries for ' + i)\n",
    "    plt.xlabel('date')\n",
    "    plt.ylabel('Free parking spots')\n",
    "    plt.show()"
   ]
  },
  {
   "cell_type": "code",
   "execution_count": null,
   "id": "d9d51c4e",
   "metadata": {},
   "outputs": [],
   "source": []
  }
 ],
 "metadata": {
  "kernelspec": {
   "display_name": "Python 3.9.7 ('CHX')",
   "language": "python",
   "name": "python3"
  },
  "language_info": {
   "codemirror_mode": {
    "name": "ipython",
    "version": 3
   },
   "file_extension": ".py",
   "mimetype": "text/x-python",
   "name": "python",
   "nbconvert_exporter": "python",
   "pygments_lexer": "ipython3",
   "version": "3.9.7"
  },
  "vscode": {
   "interpreter": {
    "hash": "057d6b5c822a08e260e2545f3eac92f3c5f4aa056129a9b0b6ff0670282fbdf0"
   }
  }
 },
 "nbformat": 4,
 "nbformat_minor": 5
}
