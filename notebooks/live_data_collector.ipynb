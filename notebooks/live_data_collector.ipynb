{
 "cells": [
  {
   "cell_type": "code",
   "execution_count": 1,
   "id": "38062dbd",
   "metadata": {},
   "outputs": [],
   "source": [
    "import requests\n",
    "import pandas as pd\n",
    "import json\n",
    "import pprint\n",
    "import os\n",
    "import time\n",
    "from datetime import datetime, timedelta\n",
    "\n",
    "import warnings\n",
    "warnings.filterwarnings('ignore')"
   ]
  },
  {
   "cell_type": "markdown",
   "id": "40a055ac",
   "metadata": {},
   "source": [
    "api infos: https://data.bs.ch/api/v2/console"
   ]
  },
  {
   "cell_type": "code",
   "execution_count": null,
   "id": "aae040d8",
   "metadata": {},
   "outputs": [],
   "source": [
    "# def call_newest_data(url):\n",
    "#     '''\n",
    "#     Requests the newest data from the data.bs.ch api and returns it as pandas dataframe.\n",
    "#     '''\n",
    "#     try:\n",
    "#         r = requests.get(url)\n",
    "\n",
    "#         df = pd.DataFrame(r.json())\n",
    "#         df = df.dropna(axis=\"rows\")\n",
    "#         return df\n",
    "#     except requests.exceptions.RequestException as e:  # This is the correct syntax\n",
    "#         raise (f\"An exception occured: {e}\")\n",
    "#         return None\n",
    "    \n",
    "# url = \"https://data.bs.ch/api/v2/catalog/datasets/100088/exports/json?limit=-1&offset=0&timezone=Europe%2FBerlin\"\n",
    "# df = call_newest_data(url)\n",
    "# df"
   ]
  },
  {
   "cell_type": "code",
   "execution_count": 2,
   "id": "8cdf46a0",
   "metadata": {},
   "outputs": [],
   "source": [
    "class LiveDataCollector():\n",
    "    \n",
    "    def __init__(self):\n",
    "        self.update_time = datetime.now().replace(second=0, microsecond=0) - timedelta(minutes=1)\n",
    "\n",
    "        \n",
    "    def open_csv(self, file_path):\n",
    "        if os.path.exists(file_path):\n",
    "            df = pd.read_csv(file_path)\n",
    "        else:\n",
    "            df = pd.DataFrame()\n",
    "        return df\n",
    "\n",
    "\n",
    "    def save_csv(self, df, file_path):\n",
    "        df.to_csv(file_path, index=False)\n",
    "        \n",
    "    def call_newest_data(self, url):\n",
    "        '''\n",
    "        Requests the newest data from the data.bs.ch api and returns it as pandas dataframe.\n",
    "        '''\n",
    "        try:\n",
    "            r = requests.get(url)\n",
    "            df = pd.DataFrame(r.json())\n",
    "            df = df.dropna(axis=\"rows\")\n",
    "            return df\n",
    "        except requests.exceptions.RequestException as e:\n",
    "            raise (f\"An exception occured: {e}\")\n",
    "            return None\n",
    "    \n",
    "    \n",
    "    def collect_data(self, url, file_path):\n",
    "\n",
    "        # get current datetime\n",
    "        now = datetime.now()\n",
    "        now = now.replace(second=0, microsecond=0)\n",
    "\n",
    "        # check if last update is older than a minute\n",
    "        if (self.update_time < now): \n",
    "            \n",
    "            # import csv as dataframe\n",
    "            df = self.open_csv(file_path)\n",
    "\n",
    "            # get new data\n",
    "            print(\"Reading data...\")\n",
    "            df_new = self.call_newest_data(url)\n",
    "            \n",
    "            if df_new is not None:\n",
    "                # update dataframe\n",
    "                df = df.append(df_new)\n",
    "                df = df.reset_index(drop=True)\n",
    "\n",
    "                # save as csv\n",
    "                print(f\"Saving: {file_path} at time: {now}\")\n",
    "                self.save_csv(df, file_path)\n",
    "                print(\"Complete\")\n",
    "\n",
    "                # update update time\n",
    "                self.update_time = now"
   ]
  },
  {
   "cell_type": "code",
   "execution_count": 3,
   "id": "b3c018a4",
   "metadata": {},
   "outputs": [
    {
     "name": "stdout",
     "output_type": "stream",
     "text": [
      "Reading data...\n",
      "Saving: ../data/20_10_2022.csv at time: 2022-10-20 10:51:00\n",
      "Complete\n",
      "Reading data...\n",
      "Saving: ../data/20_10_2022.csv at time: 2022-10-20 10:52:00\n",
      "Complete\n"
     ]
    },
    {
     "ename": "KeyboardInterrupt",
     "evalue": "",
     "output_type": "error",
     "traceback": [
      "\u001b[1;31m---------------------------------------------------------------------------\u001b[0m",
      "\u001b[1;31mKeyboardInterrupt\u001b[0m                         Traceback (most recent call last)",
      "Cell \u001b[1;32mIn [3], line 11\u001b[0m\n\u001b[0;32m      9\u001b[0m \u001b[39m# update csv\u001b[39;00m\n\u001b[0;32m     10\u001b[0m collector\u001b[39m.\u001b[39mcollect_data(url, path\u001b[39m+\u001b[39mfile)\n\u001b[1;32m---> 11\u001b[0m time\u001b[39m.\u001b[39msleep(\u001b[39m10\u001b[39m)\n",
      "\u001b[1;31mKeyboardInterrupt\u001b[0m: "
     ]
    }
   ],
   "source": [
    "url = \"https://data.bs.ch/api/v2/catalog/datasets/100088/exports/json?limit=-1&offset=0&timezone=Europe%2FBerlin\"\n",
    "path = \"../data/\"\n",
    "\n",
    "collector = LiveDataCollector()\n",
    "\n",
    "while True:\n",
    "    # define csv name\n",
    "    file = f'{(datetime.now().strftime(\"%d_%m_%Y\"))}.csv'\n",
    "    # update csv\n",
    "    collector.collect_data(url, path+file)\n",
    "    time.sleep(10)"
   ]
  }
 ],
 "metadata": {
  "kernelspec": {
   "display_name": "Python 3.9.7 ('CHX')",
   "language": "python",
   "name": "python3"
  },
  "language_info": {
   "codemirror_mode": {
    "name": "ipython",
    "version": 3
   },
   "file_extension": ".py",
   "mimetype": "text/x-python",
   "name": "python",
   "nbconvert_exporter": "python",
   "pygments_lexer": "ipython3",
   "version": "3.9.7"
  },
  "vscode": {
   "interpreter": {
    "hash": "057d6b5c822a08e260e2545f3eac92f3c5f4aa056129a9b0b6ff0670282fbdf0"
   }
  }
 },
 "nbformat": 4,
 "nbformat_minor": 5
}
