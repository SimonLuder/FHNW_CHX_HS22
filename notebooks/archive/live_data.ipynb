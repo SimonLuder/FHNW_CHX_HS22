{
 "cells": [
  {
   "cell_type": "markdown",
   "id": "9322c1f7",
   "metadata": {},
   "source": [
    "Test notebook for calling the API from Basel Stadt"
   ]
  },
  {
   "cell_type": "code",
   "execution_count": null,
   "id": "38062dbd",
   "metadata": {},
   "outputs": [],
   "source": [
    "import requests\n",
    "import pandas as pd\n",
    "import json\n",
    "import pprint"
   ]
  },
  {
   "cell_type": "markdown",
   "id": "40a055ac",
   "metadata": {},
   "source": [
    "api infos: https://data.bs.ch/api/v2/console"
   ]
  },
  {
   "cell_type": "code",
   "execution_count": null,
   "id": "aae040d8",
   "metadata": {},
   "outputs": [],
   "source": [
    "def call_newest_data(url):\n",
    "    '''\n",
    "    Requests the newest data from the data.bs.ch api and returns it as pandas dataframe.\n",
    "    '''\n",
    "    r = requests.get(url)\n",
    "    \n",
    "    if r.status_code == 200:\n",
    "        df = pd.DataFrame(r.json())\n",
    "        df = df.dropna(axis=\"rows\")\n",
    "        return r.status_code, df\n",
    "    else:\n",
    "        return r.status_code, None"
   ]
  },
  {
   "cell_type": "code",
   "execution_count": null,
   "id": "fad90e0d",
   "metadata": {},
   "outputs": [],
   "source": [
    "url = \"https://data.bs.ch/api/v2/catalog/datasets/100088/exports/json?limit=-1&offset=0&timezone=Europe%2FBerlin\"\n",
    "status, df = call_newest_data(url)\n",
    "print(status)\n",
    "df"
   ]
  }
 ],
 "metadata": {
  "kernelspec": {
   "display_name": "Python 3 (ipykernel)",
   "language": "python",
   "name": "python3"
  },
  "language_info": {
   "codemirror_mode": {
    "name": "ipython",
    "version": 3
   },
   "file_extension": ".py",
   "mimetype": "text/x-python",
   "name": "python",
   "nbconvert_exporter": "python",
   "pygments_lexer": "ipython3",
   "version": "3.9.7"
  },
  "vscode": {
   "interpreter": {
    "hash": "11938c6bc6919ae2720b4d5011047913343b08a43b18698fd82dedb0d4417594"
   }
  }
 },
 "nbformat": 4,
 "nbformat_minor": 5
}
