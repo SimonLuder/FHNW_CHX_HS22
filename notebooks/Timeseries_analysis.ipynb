{
 "cells": [
  {
   "cell_type": "markdown",
   "metadata": {},
   "source": [
    "# Timeseries analysis"
   ]
  },
  {
   "cell_type": "code",
   "execution_count": null,
   "metadata": {},
   "outputs": [],
   "source": [
    "# load dependencies\n",
    "import matplotlib.pyplot as plt\n",
    "import statsmodels\n",
    "import pandas as pd\n",
    "import numpy as np\n",
    "from clean_data import clean_data\n",
    "from statsmodels.tsa.seasonal import seasonal_decompose"
   ]
  },
  {
   "cell_type": "code",
   "execution_count": null,
   "metadata": {},
   "outputs": [],
   "source": [
    "# historic dataset\n",
    "path = \"../data/raw/\"\n",
    "file = \"100014.csv\"\n",
    "data = clean_data(path, file)"
   ]
  },
  {
   "cell_type": "code",
   "execution_count": null,
   "metadata": {},
   "outputs": [],
   "source": [
    "data"
   ]
  },
  {
   "cell_type": "code",
   "execution_count": null,
   "metadata": {},
   "outputs": [],
   "source": [
    "# we start to analyse the garage steinen\n",
    "df_steinen = data[data['id2'] == 'steinen'].copy()"
   ]
  },
  {
   "cell_type": "code",
   "execution_count": null,
   "metadata": {},
   "outputs": [],
   "source": [
    "df_steinen['published'] = pd.to_datetime(df_steinen['published'], utc=True)\n",
    "print(df_steinen.dtypes)\n",
    "df_steinen['year'] = df_steinen['published']\n",
    "df_steinen['month'] = df_steinen['published']\n",
    "df_steinen['day'] = df_steinen['published']\n",
    "df_steinen['weekday'] = df_steinen['published']"
   ]
  },
  {
   "cell_type": "code",
   "execution_count": null,
   "metadata": {},
   "outputs": [],
   "source": [
    "df_steinen['year']=df_steinen['year'].apply(lambda x: x.year)\n",
    "df_steinen['month']=df_steinen['month'].apply(lambda x: x.month)\n",
    "df_steinen['day']=df_steinen['day'].apply(lambda x: x.day)\n",
    "df_steinen['weekday']=df_steinen['weekday'].apply(lambda x: x.weekday())"
   ]
  },
  {
   "cell_type": "code",
   "execution_count": null,
   "metadata": {},
   "outputs": [],
   "source": [
    "# df_steinen.drop(columns=['week', 'day_name'])"
   ]
  },
  {
   "cell_type": "code",
   "execution_count": null,
   "metadata": {},
   "outputs": [],
   "source": [
    "plt.figure(figsize=(15, 5))\n",
    "plt.plot(df_steinen.index, df_steinen['free'])\n",
    "plt.title('Evolution of free parking spots in garage steinen')\n",
    "plt.xlabel('Date')\n",
    "plt.ylabel('Free parking spots')\n",
    "plt.show()"
   ]
  },
  {
   "cell_type": "code",
   "execution_count": null,
   "metadata": {},
   "outputs": [],
   "source": [
    "print('mean of free spots per year: ', df_steinen.groupby('year').mean(['free'])['free'])\n",
    "df_steinen.groupby('weekday').mean(['free'])['free'].plot(kind='bar')\n",
    "plt.title('mean free spots per week day (0=monday, 6=sunday)')\n",
    "plt.ylabel('mean free spots')\n",
    "plt.xlabel('weekday')\n",
    "plt.show()\n",
    "\n",
    "df_steinen.groupby('month').mean(['free'])['free'].plot(kind='bar')\n",
    "plt.title('mean free spots per month (1=january, 12=december)')\n",
    "plt.ylabel('mean free spots')\n",
    "plt.xlabel('month')\n",
    "plt.show()"
   ]
  },
  {
   "cell_type": "code",
   "execution_count": null,
   "metadata": {},
   "outputs": [],
   "source": [
    "df_steinen.groupby(['year', 'month', 'day']).mean('free')['free'].plot()\n",
    "plt.title('evolution of the mean free spots per day')\n",
    "plt.ylabel('mean per day')\n",
    "plt.xlabel('date')\n",
    "plt.show()\n",
    "\n",
    "df_steinen.groupby(['year', 'month']).mean('free')['free'].plot()\n",
    "plt.title('evolution of the mean free spots per month')\n",
    "plt.ylabel('mean per month')\n",
    "plt.xlabel('date')\n",
    "plt.axvline(13, color='red', label='first corona measures (approximately)')\n",
    "plt.axvline(16, color='red', label='corona measures are removed (approximately)')\n",
    "plt.axvline(23, color='red', label='second corona measures (approximately)')\n",
    "plt.axvline(27, color='red', label='second corona measures removed (approximately)')\n",
    "plt.show()\n",
    "\n",
    "df_steinen.groupby(['month', 'day']).mean('free')['free'].plot()\n",
    "plt.title('evolution of the mean free spots per day')\n",
    "plt.ylabel('mean per day')\n",
    "plt.xlabel('date')\n",
    "plt.show()"
   ]
  },
  {
   "cell_type": "code",
   "execution_count": null,
   "metadata": {},
   "outputs": [],
   "source": []
  }
 ],
 "metadata": {
  "kernelspec": {
   "display_name": "Python 3.9.7 ('CHX')",
   "language": "python",
   "name": "python3"
  },
  "language_info": {
   "codemirror_mode": {
    "name": "ipython",
    "version": 3
   },
   "file_extension": ".py",
   "mimetype": "text/x-python",
   "name": "python",
   "nbconvert_exporter": "python",
   "pygments_lexer": "ipython3",
   "version": "3.9.7"
  },
  "orig_nbformat": 4,
  "vscode": {
   "interpreter": {
    "hash": "057d6b5c822a08e260e2545f3eac92f3c5f4aa056129a9b0b6ff0670282fbdf0"
   }
  }
 },
 "nbformat": 4,
 "nbformat_minor": 2
}
