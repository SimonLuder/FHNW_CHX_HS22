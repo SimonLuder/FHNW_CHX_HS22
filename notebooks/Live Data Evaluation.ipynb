{
 "cells": [
  {
   "cell_type": "code",
   "execution_count": null,
   "id": "38716224",
   "metadata": {},
   "outputs": [],
   "source": [
    "import pandas as pd\n",
    "from statsmodels.graphics.tsaplots import plot_acf, plot_pacf\n",
    "import matplotlib.pyplot as plt\n",
    "import seaborn as sns\n",
    "import os\n",
    "from datetime import datetime, timedelta\n",
    "from helper import *"
   ]
  },
  {
   "cell_type": "code",
   "execution_count": null,
   "id": "c3261c5b",
   "metadata": {},
   "outputs": [],
   "source": [
    "t = \"60Min\"\n",
    "long_interpolation = 4"
   ]
  },
  {
   "cell_type": "markdown",
   "id": "05e51cd7",
   "metadata": {},
   "source": [
    "## Import dataframes"
   ]
  },
  {
   "cell_type": "code",
   "execution_count": null,
   "id": "5e43d031",
   "metadata": {},
   "outputs": [],
   "source": [
    "def load_csv(file_path):\n",
    "    if os.path.exists(file_path):\n",
    "        df = pd.read_csv(file_path)\n",
    "    else:\n",
    "        df = pd.DataFrame()\n",
    "    return df\n",
    "\n",
    "def combine_dataframes(path_comb, path_live, csv_comb=\"combined.csv\"):\n",
    "    \n",
    "    df_combined = load_csv(path_comb + csv_comb)\n",
    "\n",
    "    for file in os.listdir(path_live):\n",
    "        if str(file).endswith(\".csv\"):\n",
    "            df = pd.read_csv(f\"{path_live}{file}\", delimiter=\",\")\n",
    "            df_combined = df_combined.append(df)\n",
    "    return df_combined\n",
    "        \n",
    "file = \"combined.csv\"\n",
    "path_comb = \"../data/\"\n",
    "path_live = \"../data/\"\n",
    "    \n",
    "df = combine_dataframes(path_comb, path_live, csv_comb=file)"
   ]
  },
  {
   "cell_type": "markdown",
   "id": "c592f690",
   "metadata": {},
   "source": [
    "## Dataset preparation"
   ]
  },
  {
   "cell_type": "markdown",
   "id": "26a0e239",
   "metadata": {},
   "source": [
    "### Drop duplicate values"
   ]
  },
  {
   "cell_type": "code",
   "execution_count": null,
   "id": "2e3acb9e",
   "metadata": {},
   "outputs": [],
   "source": [
    "print(f\"{round((1 -len(df.drop_duplicates()) / len(df)) * 100, 2)} % of entries are duplicates\")"
   ]
  },
  {
   "cell_type": "code",
   "execution_count": null,
   "id": "9db52f26",
   "metadata": {},
   "outputs": [],
   "source": [
    "df = df.drop_duplicates()"
   ]
  },
  {
   "cell_type": "markdown",
   "id": "79fe9d90",
   "metadata": {},
   "source": [
    "### Update timestamp"
   ]
  },
  {
   "cell_type": "code",
   "execution_count": null,
   "id": "c7e2bf5f",
   "metadata": {},
   "outputs": [],
   "source": [
    "df = update_timestamps(df)"
   ]
  },
  {
   "cell_type": "markdown",
   "id": "80c93f36",
   "metadata": {},
   "source": [
    "### Drop irrelevant columns"
   ]
  },
  {
   "cell_type": "code",
   "execution_count": null,
   "id": "86b05ede",
   "metadata": {},
   "outputs": [],
   "source": [
    "df = df.drop(columns=[\"link\", \"geo_point_2d\", \"description\"])"
   ]
  },
  {
   "cell_type": "markdown",
   "id": "8b2a931e",
   "metadata": {},
   "source": [
    "### Resample timestamp intervall"
   ]
  },
  {
   "cell_type": "code",
   "execution_count": null,
   "id": "a4be0e86",
   "metadata": {},
   "outputs": [],
   "source": [
    "df = resample_timestamp(df, t=t, how=\"mean\", ignore_cols=['published', \"description\"])"
   ]
  },
  {
   "cell_type": "code",
   "execution_count": null,
   "id": "8f600d89",
   "metadata": {},
   "outputs": [],
   "source": [
    "plt.figure(figsize=(14,6))\n",
    "\n",
    "ax = sns.scatterplot(data = df.dropna(), x=\"published\", y=\"auslastung_prozent\", hue=\"title\")\n",
    "sns.move_legend(ax, \"upper left\", bbox_to_anchor=(1, 1))\n",
    "plt.title(\"Auslastung Prozent\")\n",
    "plt.ylabel(\"Auslastung [%]\")\n",
    "plt.xlabel(\"Zeitspanne\")\n",
    "plt.show()"
   ]
  },
  {
   "cell_type": "code",
   "execution_count": null,
   "id": "db3035b3",
   "metadata": {},
   "outputs": [],
   "source": [
    "df = df.groupby(by=[\"id2\", \"name\", \"title\"]).apply(mark_missing_values_windows)        \n",
    "df = df.reset_index(drop=True)"
   ]
  },
  {
   "cell_type": "code",
   "execution_count": null,
   "id": "2db0caa1",
   "metadata": {},
   "outputs": [],
   "source": [
    "df.loc[(df[\"missing\"] == 0) & df.isna().any(axis=1)]"
   ]
  },
  {
   "cell_type": "code",
   "execution_count": null,
   "id": "c45be3b9",
   "metadata": {},
   "outputs": [],
   "source": [
    "df.loc[df.isna().any(axis=1)]"
   ]
  },
  {
   "cell_type": "code",
   "execution_count": null,
   "id": "92252766",
   "metadata": {},
   "outputs": [],
   "source": [
    "df = interpolate_historic(df, 6)"
   ]
  },
  {
   "cell_type": "code",
   "execution_count": null,
   "id": "d8a57230",
   "metadata": {},
   "outputs": [],
   "source": [
    "df[df.isna().any(axis=1)][\"missing\"].value_counts()"
   ]
  },
  {
   "cell_type": "code",
   "execution_count": null,
   "id": "9735449c",
   "metadata": {},
   "outputs": [],
   "source": [
    "df"
   ]
  },
  {
   "cell_type": "markdown",
   "id": "dc9706ac",
   "metadata": {},
   "source": [
    "### Interpolate data"
   ]
  },
  {
   "cell_type": "code",
   "execution_count": null,
   "id": "fff5c23c",
   "metadata": {},
   "outputs": [],
   "source": [
    "n = len(df)\n",
    "\n",
    "sub_df1 = df[:n]\n",
    "sub_df1 = sub_df1.drop_duplicates()\n",
    "\n",
    "ip = Interpolator()\n",
    "sub_df2 = ip.interpolate(sub_df1, method=\"pad\", t=t)\n",
    "\n",
    "ip = Interpolator()\n",
    "sub_df3 = ip.interpolate(sub_df1, method=\"linear\", t=t)\n",
    "\n",
    "ip = Interpolator()\n",
    "sub_df4 = ip.interpolate(sub_df1, method=\"cubic\", t=t)"
   ]
  },
  {
   "cell_type": "code",
   "execution_count": null,
   "id": "f9b352c7",
   "metadata": {},
   "outputs": [],
   "source": [
    "sub_df2[sub_df2.isna().any(axis=1)][\"missing\"].value_counts()"
   ]
  },
  {
   "cell_type": "code",
   "execution_count": null,
   "id": "e70cc925",
   "metadata": {},
   "outputs": [],
   "source": [
    "df1 = sub_df1.loc[sub_df1[\"title\"] == \"Parkhaus Storchen\"][:10]\n",
    "df2 = sub_df2.loc[sub_df2[\"title\"] == \"Parkhaus Storchen\"][:10]\n",
    "df3 = sub_df3.loc[sub_df3[\"title\"] == \"Parkhaus Storchen\"][:10]\n",
    "df4 = sub_df4.loc[sub_df4[\"title\"] == \"Parkhaus Storchen\"][:10]\n",
    "\n",
    "plt.figure(figsize=(12,5))\n",
    "plt.plot(df1[\"published\"], df1[\"auslastung\"], \"o\", label=\"Real values\")\n",
    "plt.plot(df2[\"published\"], df2[\"auslastung\"], \"-\", label=\"padding\")\n",
    "plt.plot(df3[\"published\"], df3[\"auslastung\"], \"--\", label=\"linear\")\n",
    "plt.plot(df4[\"published\"], df4[\"auslastung\"], \"--\", label=\"cubic\")\n",
    "plt.title(\"Interplation of missing values\")\n",
    "plt.xlabel(\"timestamp\")\n",
    "plt.ylabel(\"value\")\n",
    "plt.legend()\n",
    "plt.show()"
   ]
  },
  {
   "cell_type": "code",
   "execution_count": null,
   "id": "d86f3eb3",
   "metadata": {},
   "outputs": [],
   "source": [
    "round(len(sub_df1) / len(sub_df2), 3)"
   ]
  },
  {
   "cell_type": "code",
   "execution_count": null,
   "id": "fdace768",
   "metadata": {},
   "outputs": [],
   "source": [
    "df = sub_df2"
   ]
  },
  {
   "cell_type": "code",
   "execution_count": null,
   "id": "065fe54e",
   "metadata": {},
   "outputs": [],
   "source": [
    "df"
   ]
  },
  {
   "cell_type": "markdown",
   "id": "e6e0f5ea",
   "metadata": {},
   "source": [
    "Unique garages"
   ]
  },
  {
   "cell_type": "code",
   "execution_count": null,
   "id": "66878595",
   "metadata": {},
   "outputs": [],
   "source": [
    "names = list(df[\"title\"].drop_duplicates())\n",
    "names"
   ]
  },
  {
   "cell_type": "code",
   "execution_count": null,
   "id": "e8ba5328",
   "metadata": {},
   "outputs": [],
   "source": [
    "df.info()"
   ]
  },
  {
   "cell_type": "code",
   "execution_count": null,
   "id": "60c585a0",
   "metadata": {},
   "outputs": [],
   "source": [
    "df[df.isna().any(axis=1)]"
   ]
  },
  {
   "cell_type": "markdown",
   "id": "978db9f7",
   "metadata": {},
   "source": [
    "Check for impossible utilisation rates"
   ]
  },
  {
   "cell_type": "code",
   "execution_count": null,
   "id": "d97e8b4d",
   "metadata": {},
   "outputs": [],
   "source": [
    "len(df.loc[df[\"auslastung_prozent\"] > 100])"
   ]
  },
  {
   "cell_type": "code",
   "execution_count": null,
   "id": "e988880e",
   "metadata": {},
   "outputs": [],
   "source": [
    "len(df.loc[df[\"auslastung_prozent\"] < 0])"
   ]
  },
  {
   "cell_type": "code",
   "execution_count": null,
   "id": "f57dc3fa",
   "metadata": {},
   "outputs": [],
   "source": [
    "plt.figure(figsize=(14,6))\n",
    "ax = sns.scatterplot(data = df, x=\"published\", y=\"auslastung_prozent\", hue=\"title\")\n",
    "sns.move_legend(ax, \"upper left\", bbox_to_anchor=(1, 1))\n",
    "plt.title(\"Auslastung Prozent\")\n",
    "plt.xlabel(\"Auslastung [%]\")\n",
    "plt.ylabel(\"Zeitspanne\")\n",
    "plt.show()"
   ]
  },
  {
   "cell_type": "code",
   "execution_count": null,
   "id": "0d0e56e2",
   "metadata": {},
   "outputs": [],
   "source": [
    "# df.to_csv(\"../data/processed/live_60.csv\", index=False)"
   ]
  },
  {
   "cell_type": "markdown",
   "id": "706e3a8d",
   "metadata": {},
   "source": [
    "## Torch"
   ]
  },
  {
   "cell_type": "code",
   "execution_count": null,
   "id": "5ca9e8b0",
   "metadata": {},
   "outputs": [],
   "source": [
    "import torch\n",
    "from torch import nn\n",
    "\n",
    "device = torch.device(\"cuda\" if torch.cuda.is_available() else \"cpu\")\n",
    "print(\"device:\", device)"
   ]
  },
  {
   "cell_type": "code",
   "execution_count": null,
   "id": "c25ba516",
   "metadata": {},
   "outputs": [],
   "source": [
    "sub_df = df.loc[df[\"title\"]==\"Parkhaus Rebgasse\"][\"free\"]\n",
    "\n"
   ]
  },
  {
   "cell_type": "code",
   "execution_count": null,
   "id": "6859cc78",
   "metadata": {},
   "outputs": [],
   "source": [
    "import numpy as np\n",
    "import torch\n",
    "\n",
    "class TrainTestSplit():\n",
    "    \n",
    "    def __init__(self):\n",
    "        pass\n",
    "\n",
    "def sliding_window(data, seq_len):\n",
    "    '''Creates a sliding window over the dataset'''\n",
    "    X = []\n",
    "    Y = []\n",
    "    \n",
    "    for i in range(len(data) - seq_len):\n",
    "        x = data[i:(i+seq_len)].to_numpy()\n",
    "        y = data[(i+seq_len):(i+seq_len+1)].to_numpy()\n",
    "        X.append(x)\n",
    "        Y.append(y)\n",
    "    \n",
    "    return np.array(X), np.array(Y)\n",
    "\n",
    "train_seq_len = 24\n",
    "test_seq_len = 6\n",
    "train_ratio = 0.8\n",
    "\n",
    "def train_test_split(df, train_ratio, train_seq_len):\n",
    "\n",
    "    len_train = int(len(df) * train_ratio)\n",
    "    \n",
    "    X_train, Y_train = sliding_window(df[:len_train], train_seq_len)\n",
    "    X_test, Y_test = sliding_window(df[len_train:], train_seq_len)\n",
    "    \n",
    "    return X_train, Y_train, X_test, Y_test\n",
    "\n",
    "X_train, Y_train, X_test, Y_test = train_test_split(sub_df, train_ratio, train_seq_len)"
   ]
  },
  {
   "cell_type": "code",
   "execution_count": null,
   "id": "86feb2dc",
   "metadata": {},
   "outputs": [],
   "source": [
    "# X_train = torch.from_numpy(X_train).float()\n",
    "# Y_train = torch.from_numpy(Y_train).float()"
   ]
  },
  {
   "cell_type": "code",
   "execution_count": null,
   "id": "1a62ccab",
   "metadata": {},
   "outputs": [],
   "source": [
    "from torch.utils.data import Dataset\n",
    "\n",
    "class TimeSeriesDataSet(Dataset):\n",
    "    def __init__(self, sequences, labels):\n",
    "        self.labels = labels\n",
    "        self.sequences = sequences\n",
    "    \n",
    "    def __len__(self):\n",
    "        return len(self.sequences)\n",
    "    \n",
    "    def __getitem__(self, idx):\n",
    "        sequences = self.sequences[idx]\n",
    "        sequences = torch.from_numpy(self.sequences[idx]).float()\n",
    "        \n",
    "        labels = self.labels[idx]\n",
    "        labels = torch.from_numpy(self.labels[idx]).float()\n",
    "\n",
    "        return sequences, labels\n",
    "    "
   ]
  },
  {
   "cell_type": "code",
   "execution_count": null,
   "id": "c62e7956",
   "metadata": {},
   "outputs": [],
   "source": [
    "train_set = TimeSeriesDataSet(X_train, Y_train)\n",
    "test_set = TimeSeriesDataSet(X_test, Y_test)"
   ]
  },
  {
   "cell_type": "code",
   "execution_count": null,
   "id": "293a2026",
   "metadata": {},
   "outputs": [],
   "source": [
    "len(train_set)"
   ]
  },
  {
   "cell_type": "code",
   "execution_count": null,
   "id": "ba9cba55",
   "metadata": {},
   "outputs": [],
   "source": [
    "from torch.utils.data import DataLoader\n",
    "# Set seed \n",
    "torch.manual_seed(42)\n",
    "batch_size = 16\n",
    "\n",
    "train_dataloader = DataLoader(\n",
    "    dataset=train_set, \n",
    "    batch_size=batch_size, \n",
    "    shuffle=True)\n",
    "\n",
    "test_dataloader = DataLoader(\n",
    "    dataset=test_set, \n",
    "    batch_size=batch_size, \n",
    "    shuffle=False)"
   ]
  },
  {
   "cell_type": "code",
   "execution_count": null,
   "id": "6b010bd5",
   "metadata": {},
   "outputs": [],
   "source": [
    "example_batch = iter(train_dataloader)\n",
    "sequences, labels = example_batch.next()\n",
    "np.shape(sequences), np.shape(labels)"
   ]
  },
  {
   "cell_type": "code",
   "execution_count": null,
   "id": "90f48b66",
   "metadata": {},
   "outputs": [],
   "source": [
    "sequences, labels"
   ]
  },
  {
   "cell_type": "code",
   "execution_count": null,
   "id": "54f17769",
   "metadata": {},
   "outputs": [],
   "source": [
    "\n",
    "class LSTM_Forecaster(nn.Module):\n",
    "    '''\n",
    "    LSTM model for predicting timeseries\n",
    "    Args:\n",
    "        input_size (int): nr of input features\n",
    "        hidden_size (int): hidden layer size\n",
    "        num_layers (int): number of layers in the lstm\n",
    "        seq_length (int): length of the prediction\n",
    "    '''\n",
    "    def __init__(self, input_size, hidden_size, seq_len, num_layers=2, dropout=0):\n",
    "        super(LSTM_Forecaster, self).__init__()\n",
    "        \n",
    "        self.input_size = input_size\n",
    "        self.hidden_size = hidden_size\n",
    "        self.num_layers = num_layers\n",
    "        self.seq_len = seq_len\n",
    "        self.dropout = dropout\n",
    "\n",
    "        self.lstm = nn.LSTM(input_size = self.input_size, \n",
    "                            hidden_size = self.hidden_size,\n",
    "                            num_layers = self.num_layers,\n",
    "                            dropout = self.dropout,\n",
    "                            bidirectional=False\n",
    "#                             batch_first=True\n",
    "                            )\n",
    "        \n",
    "        self.linear = nn.Linear(in_features = hidden_size, out_features = 1)\n",
    "        \n",
    "        self.hidden = self.reset_hidden_state()\n",
    "        \n",
    "        \n",
    "    def reset_hidden_state(self):\n",
    "        self.hidden = (\n",
    "        torch.zeros(self.num_layers, self.seq_len, self.hidden_size),\n",
    "        torch.zeros(self.num_layers, self.seq_len, self.hidden_size)\n",
    "        )\n",
    "        \n",
    "\n",
    "    def forward(self, sequences):\n",
    "        \n",
    "        self.reset_hidden_state()\n",
    "    \n",
    "        lstm_out, self.hidden = self.lstm(\n",
    "          sequences.view(len(sequences), self.seq_len, -1),\n",
    "          self.hidden\n",
    "        )\n",
    " \n",
    "        last = lstm_out.view(self.seq_len, len(sequences), self.hidden_size)[-1]\n",
    "        outputs = self.linear(last)\n",
    "        \n",
    "        return outputs"
   ]
  },
  {
   "cell_type": "code",
   "execution_count": null,
   "id": "65c0e4e6",
   "metadata": {},
   "outputs": [],
   "source": [
    "class LSTMForecaster2(nn.Module):\n",
    "    '''\n",
    "    LSTM model for predicting timeseries\n",
    "    Args:\n",
    "        input_size (int): nr of input features\n",
    "        hidden_size (int): hidden layer size\n",
    "        num_layers (int): number of layers in the lstm\n",
    "        seq_length (int): length of the prediction\n",
    "    '''\n",
    "    def __init__(self, hidden_size, dropout=0):\n",
    "        super(LSTMForecaster2, self).__init__()\n",
    "        \n",
    "       \n",
    "        self.hidden_size = hidden_size\n",
    "      \n",
    "        self.dropout = dropout\n",
    "        \n",
    "        self.lstm1 = nn.LSTMCell(1, hidden_size)\n",
    "        self.lstm2 = nn.LSTMCell(hidden_size, hidden_size)\n",
    "        self.linear = nn.Linear(hidden_size, 1)\n",
    "\n",
    "        \n",
    "\n",
    "    def forward(self, X, future=0):\n",
    "        outputs = []\n",
    "        n_samples = X.size(0)\n",
    "        \n",
    "        h_t = torch.zeros(n_samples, self.hidden_size, dtype=torch.float32)\n",
    "        c_t = torch.zeros(n_samples, self.hidden_size, dtype=torch.float32)\n",
    "        \n",
    "        h_t2 = torch.zeros(n_samples, self.hidden_size, dtype=torch.float32)\n",
    "        c_t2 = torch.zeros(n_samples, self.hidden_size, dtype=torch.float32)\n",
    "    \n",
    "        for input_t in X.split(1, dim=1):\n",
    "            h_t, c_t = self.lstm1(input_t, (h_t, c_t))\n",
    "            h_t2, c_t2 = self.lstm2(h_t, (h_t2, c_t2))\n",
    "            output = self.linear(h_t2)\n",
    "            outputs.append(output)\n",
    "            \n",
    "        for i in range(future):\n",
    "            h_t, c_t = self.lstm1(output, (h_t, c_t))\n",
    "            h_t2, c_t2 = self.lstm2(h_t, (h_t2, c_t2))\n",
    "            output = self.linear(h_t2)\n",
    "            outputs.append(output)\n",
    "            \n",
    "        \n",
    "        outputs = torch.cat(outputs, dim=1)\n",
    "        \n",
    "        return output"
   ]
  },
  {
   "cell_type": "code",
   "execution_count": null,
   "id": "dee79bad",
   "metadata": {},
   "outputs": [],
   "source": [
    "from torch.optim import Adam\n",
    "from torch.nn import MSELoss\n",
    "\n",
    "input_size = 1 # number of feature collumns\n",
    "hidden_size = 50 # hidden layer size in lstm\n",
    "seq_length = 24 # nr of lags\n",
    "\n",
    "model = LSTM_Forecaster(input_size, hidden_size, seq_length).to(device)\n",
    "\n",
    "def train_model(model, train_dataloader, test_dataloader=None):\n",
    "    \n",
    "    criterion = MSELoss()\n",
    "    optimiser = Adam(model.parameters(), lr=1e-3)\n",
    "    num_epochs = \n",
    "    \n",
    "    for epoch in range(num_epochs):\n",
    "        print(\"epoch:\", epoch)\n",
    "        \n",
    "        epoch_loss = 0\n",
    "        \n",
    "        for batch, (sequences, labels) in enumerate(train_dataloader):\n",
    "            sequences = sequences.to(device)\n",
    "            labels = labels.to(device)\n",
    "        \n",
    "            labels_pred = model(sequences)\n",
    "            loss = criterion(labels_pred.float(), labels)\n",
    "            \n",
    "            optimiser.zero_grad()\n",
    "            loss.backward()\n",
    "            optimiser.step()\n",
    "            \n",
    "            epoch_loss += loss.item()\n",
    "            \n",
    "#         if test_dataloader is not None:\n",
    "#             for batch, (sequences, labels) in enumerate(test_dataloader):\n",
    "#                 sequences = sequences.to(device)\n",
    "#                 labels = labels.to(device)\n",
    "#                 with torch.no_grad():\n",
    "#                     labels_pred = model(sequences)\n",
    "#                     loss = criterion(labels_pred.float(), labels)\n",
    "            print(labels_pred)\n",
    "        print(epoch_loss)\n",
    "    print(labels_pred, labels)\n",
    "                    \n",
    "        \n",
    "    \n",
    "train_model(model, train_dataloader)"
   ]
  },
  {
   "cell_type": "code",
   "execution_count": null,
   "id": "8758d235",
   "metadata": {
    "scrolled": false
   },
   "outputs": [],
   "source": [
    "from torch.optim import Adam\n",
    "from torch.nn import MSELoss\n",
    "\n",
    "hidden_size = 50\n",
    "\n",
    "model = LSTMForecaster2(hidden_size).to(device)\n",
    "\n",
    "class ModelTrainer():\n",
    "    \n",
    "    def __init__(self, model):\n",
    "        self.model = model\n",
    "        self.criterion = MSELoss(reduction=\"mean\")\n",
    "        self.log = dict(\n",
    "            train=[], \n",
    "            test=[]\n",
    "        )\n",
    "        \n",
    "    def predict(self, x, y, future=0):\n",
    "        with torch.no_grad():\n",
    "            labels_pred = self.model(x, future)\n",
    "            loss = self.criterion(labels_pred[:,-future:].float(), y)\n",
    "            y = labels_pred.detach().numpy()\n",
    "            return y\n",
    "\n",
    "    def train_model(self, train_dataloader, test_dataloader=None, num_epochs = 100):\n",
    "\n",
    "        optimiser = Adam(self.model.parameters(), lr=0.005)\n",
    "\n",
    "        for epoch in range(num_epochs):\n",
    "            print(\"epoch:\", epoch)\n",
    "\n",
    "            epoch_loss = 0\n",
    "\n",
    "            for batch, (sequences, labels) in enumerate(train_dataloader):\n",
    "                sequences = sequences.to(device)\n",
    "                labels = labels.to(device)\n",
    "\n",
    "                labels_pred = self.model(sequences)\n",
    "#                 print(labels_pred.size())\n",
    "                \n",
    "                loss = self.criterion(labels_pred.float(), labels)\n",
    "                \n",
    "\n",
    "                optimiser.zero_grad()\n",
    "                loss.backward()\n",
    "                optimiser.step()\n",
    "\n",
    "                epoch_loss += loss.item()\n",
    "                \n",
    "                \n",
    "#                 self.predict(sequences, labels, 2)\n",
    "\n",
    "#                 with torch.no_grad():\n",
    "#                     future = 4\n",
    "#                     labels_pred = self.model(sequences, future)\n",
    "#                     loss = self.criterion(labels_pred[:,:-future].float(), labels)\n",
    "#                     y = labels_pred.detach().numpy()\n",
    "#     #                 print(y.shape)\n",
    "\n",
    "            if test_dataloader is not None:\n",
    "                for batch, (sequences, labels) in enumerate(test_dataloader):\n",
    "                    sequences = sequences.to(device)\n",
    "                    labels = labels.to(device)\n",
    "\n",
    "            print(epoch_loss)\n",
    "        \n",
    "trainer = ModelTrainer(model)    \n",
    "trainer.train_model(train_dataloader)"
   ]
  },
  {
   "cell_type": "code",
   "execution_count": null,
   "id": "a6e09231",
   "metadata": {},
   "outputs": [],
   "source": [
    "for batch, (sequences, labels) in enumerate(train_dataloader):\n",
    "    sequences = sequences.to(device)\n",
    "    labels = labels.to(device)\n",
    "    with torch.no_grad():\n",
    "        labels_pred = trainer.model(sequences, 12)\n",
    "        restults = labels_pred.detach().numpy()"
   ]
  },
  {
   "cell_type": "code",
   "execution_count": null,
   "id": "5500978d",
   "metadata": {},
   "outputs": [],
   "source": [
    "i=5\n",
    "\n",
    "sequences[i], labels[i], restults[i]\n",
    "\n",
    "plt.figure(figsize=(10,5))\n",
    "plt.plot(range(len(sequences[i])), sequences[i])\n",
    "plt.plot(range(1, len(sequences[i])+1), labels[i], \"--\")\n",
    "plt.plot(range(1, len(restults[i])+1), restults[i])\n",
    "plt.legend()\n",
    "plt.show()"
   ]
  },
  {
   "cell_type": "code",
   "execution_count": null,
   "id": "2b24fed3",
   "metadata": {},
   "outputs": [],
   "source": [
    "labels, restults"
   ]
  }
 ],
 "metadata": {
  "kernelspec": {
   "display_name": "Python 3 (ipykernel)",
   "language": "python",
   "name": "python3"
  },
  "language_info": {
   "codemirror_mode": {
    "name": "ipython",
    "version": 3
   },
   "file_extension": ".py",
   "mimetype": "text/x-python",
   "name": "python",
   "nbconvert_exporter": "python",
   "pygments_lexer": "ipython3",
   "version": "3.9.7"
  }
 },
 "nbformat": 4,
 "nbformat_minor": 5
}
