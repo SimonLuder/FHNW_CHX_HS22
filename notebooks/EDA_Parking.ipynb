{
 "cells": [
  {
   "cell_type": "code",
   "execution_count": null,
   "metadata": {},
   "outputs": [],
   "source": [
    "# load dependencies\n",
    "import matplotlib.pyplot as plt\n",
    "import statsmodels\n",
    "import pandas as pd\n",
    "import numpy as np\n",
    "from clean_data import clean_data\n",
    "from statsmodels.tsa.seasonal import seasonal_decompose"
   ]
  },
  {
   "cell_type": "code",
   "execution_count": null,
   "metadata": {},
   "outputs": [],
   "source": [
    "# historic dataset\n",
    "path = \"../data/raw/\"\n",
    "file = \"100014.csv\"\n",
    "data = clean_data(path, file)"
   ]
  },
  {
   "cell_type": "code",
   "execution_count": null,
   "metadata": {},
   "outputs": [],
   "source": [
    "data['published'] = pd.to_datetime(data['published'], utc=True)"
   ]
  },
  {
   "cell_type": "code",
   "execution_count": null,
   "metadata": {},
   "outputs": [],
   "source": [
    "data['full'] =data['total']\n",
    "data['hour'] = data['published'].dt.hour\n",
    "for i in data.index:\n",
    "    data.loc[i,'full'] = True if data.loc[i,'total']==data.loc[i,'free'] else False\n"
   ]
  },
  {
   "cell_type": "code",
   "execution_count": null,
   "metadata": {},
   "outputs": [],
   "source": [
    "data"
   ]
  },
  {
   "cell_type": "code",
   "execution_count": null,
   "metadata": {},
   "outputs": [],
   "source": [
    "free = {}\n",
    "for i in data['id2'].unique():\n",
    "    parking = data[data['id2']==i]\n",
    "    free[i] = parking[parking['full'] == True].shape[0]/parking.shape[0] *100\n",
    "    print(\"Garage \", i, \" has \", parking[parking['full'] == True].shape[0]/parking.shape[0] *100, \" % of the time no free spots\")\n",
    "    \n",
    "    plt.plot(parking.groupby('hour').mean()['free'])\n",
    "    # plt.plot(parking.groupby('hour').mean()['free'] + 2*parking.groupby('hour').std()['free'], c='green')\n",
    "    # plt.plot(parking.groupby('hour').mean()['free'] - 2*parking.groupby('hour').std()['free'], c='green')\n",
    "    plt.title(\"Garage \" + i)\n",
    "    plt.xlabel(\"Hour\")\n",
    "    plt.axhline(y=parking['total'].min(), color='r', linestyle='-')\n",
    "    plt.ylabel(\"Mean Free spots\")\n",
    "    plt.show()\n",
    "plt.bar(x=free.keys(), height=free.values())\n",
    "plt.xlabel(\"Garage\")\n",
    "plt.ylabel(\"Percentage of time no free spots\")\n",
    "plt.title(\"Percentage of time no free spots per garage\")\n",
    "# turn xlabel 90 degrees\n",
    "plt.xticks(rotation=90)\n",
    "plt.show()"
   ]
  },
  {
   "cell_type": "code",
   "execution_count": null,
   "metadata": {},
   "outputs": [],
   "source": []
  }
 ],
 "metadata": {
  "kernelspec": {
   "display_name": "Python 3.9.7 ('CHX')",
   "language": "python",
   "name": "python3"
  },
  "language_info": {
   "codemirror_mode": {
    "name": "ipython",
    "version": 3
   },
   "file_extension": ".py",
   "mimetype": "text/x-python",
   "name": "python",
   "nbconvert_exporter": "python",
   "pygments_lexer": "ipython3",
   "version": "3.9.7"
  },
  "orig_nbformat": 4,
  "vscode": {
   "interpreter": {
    "hash": "057d6b5c822a08e260e2545f3eac92f3c5f4aa056129a9b0b6ff0670282fbdf0"
   }
  }
 },
 "nbformat": 4,
 "nbformat_minor": 2
}
