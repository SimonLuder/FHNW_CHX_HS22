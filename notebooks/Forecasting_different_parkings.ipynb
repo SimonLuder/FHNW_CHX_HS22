{
 "cells": [
  {
   "cell_type": "markdown",
   "id": "7c714736",
   "metadata": {},
   "source": [
    "## data loading"
   ]
  },
  {
   "cell_type": "code",
   "execution_count": null,
   "id": "38c98272",
   "metadata": {},
   "outputs": [],
   "source": [
    "import pandas as pd\n",
    "import numpy as np\n",
    "import matplotlib.pyplot as plt\n",
    "\n",
    "import torch\n",
    "from torch import nn\n",
    "\n",
    "# import wandb\n",
    "\n",
    "from helper import *\n",
    "\n",
    "import warnings\n",
    "warnings.simplefilter(action='ignore', category=FutureWarning)\n",
    "from pytorch_model_summary import summary"
   ]
  },
  {
   "cell_type": "code",
   "execution_count": null,
   "id": "fea3cc3f",
   "metadata": {},
   "outputs": [],
   "source": [
    "# wandb.login()"
   ]
  },
  {
   "cell_type": "code",
   "execution_count": null,
   "id": "0c0137ea",
   "metadata": {},
   "outputs": [],
   "source": [
    "# read in live data\n",
    "df = pd.read_csv(\"../data/processed/live_20.csv\")\n",
    "\n",
    "# update timestamp dtype\n",
    "df = update_timestamps(df, \"published\")\n",
    "\n",
    "df.info()"
   ]
  },
  {
   "cell_type": "code",
   "execution_count": null,
   "id": "81e0035c",
   "metadata": {},
   "outputs": [],
   "source": [
    "def integrate_garage(df, old, new=None, shift=1):\n",
    "    if new is None:\n",
    "        new = old\n",
    "    df[new] = df[old] - df[old].shift(shift)\n",
    "    return df\n",
    "\n",
    "def integrate_df(df, old, new=None, shift=1):\n",
    "    \n",
    "    new_df = pd.DataFrame()\n",
    "    df = df.copy()\n",
    "    for t in set(df[\"title\"]):\n",
    "        sub_df = df.loc[df[\"title\"]==t]\n",
    "        sub_df = sub_df.sort_values(\"published\")\n",
    "        sub_df = integrate_garage(sub_df, old, new, shift)\n",
    "        new_df = new_df.append(sub_df)\n",
    "\n",
    "    return new_df\n",
    "\n",
    "df = integrate_df(df, \"free\", \"free [i]\")\n",
    "df = df.dropna()"
   ]
  },
  {
   "cell_type": "code",
   "execution_count": null,
   "id": "f29d3ae1",
   "metadata": {},
   "outputs": [],
   "source": [
    "df"
   ]
  },
  {
   "cell_type": "markdown",
   "id": "309e7a95",
   "metadata": {},
   "source": [
    "## torch"
   ]
  },
  {
   "cell_type": "code",
   "execution_count": null,
   "id": "8f66daf6",
   "metadata": {},
   "outputs": [],
   "source": [
    "device = torch.device(\"cuda\" if torch.cuda.is_available() else \"cpu\")\n",
    "print(\"device:\", device)"
   ]
  },
  {
   "cell_type": "code",
   "execution_count": null,
   "id": "0a1b1753",
   "metadata": {},
   "outputs": [],
   "source": [
    "sub_df = df.loc[df[\"title\"]==\"Parkhaus Europe\"][\"free\"]"
   ]
  },
  {
   "cell_type": "code",
   "execution_count": null,
   "id": "81bb0a5c",
   "metadata": {},
   "outputs": [],
   "source": [
    "#cnn\n",
    "def sliding_window(data, seq_len):\n",
    "    '''Creates a sliding window over the dataset with len x/1 for train/test'''\n",
    "    X = []\n",
    "    Y = []\n",
    "    \n",
    "    for i in range(len(data) - seq_len-seq_len):\n",
    "        x = data[i:(i+seq_len)].to_numpy()\n",
    "        y = data[(i+seq_len):(i+seq_len+1)].to_numpy()\n",
    "        X.append(x)\n",
    "        Y.append(y)\n",
    "        \n",
    "    return np.array(X), np.array(Y)\n",
    "\n",
    "def train_test_split(df, train_ratio, train_seq_len):\n",
    "\n",
    "    len_train = int(len(df) * train_ratio)\n",
    "    \n",
    "    X_train, Y_train = sliding_window(df[:len_train], train_seq_len)\n",
    "    X_test, Y_test = sliding_window(df[len_train:], train_seq_len)\n",
    "    \n",
    "    return X_train, Y_train, X_test, Y_test"
   ]
  },
  {
   "cell_type": "code",
   "execution_count": null,
   "id": "0b0171f8",
   "metadata": {},
   "outputs": [],
   "source": [
    "train_seq_len = 48\n",
    "# train_ratio = 0.8\n",
    "X, Y = sliding_window(sub_df, train_seq_len)"
   ]
  },
  {
   "cell_type": "code",
   "execution_count": null,
   "id": "443b08b8",
   "metadata": {},
   "outputs": [],
   "source": [
    "from torch.utils.data import Dataset\n",
    "\n",
    "class TimeSeriesDataSet(Dataset):\n",
    "    def __init__(self, sequences, labels):\n",
    "        self.labels = labels\n",
    "        self.sequences = sequences\n",
    "    \n",
    "    def __len__(self):\n",
    "        return len(self.sequences)\n",
    "    \n",
    "    def __getitem__(self, idx):\n",
    "        sequences = self.sequences[idx]\n",
    "        sequences = torch.from_numpy(self.sequences[idx]).float()\n",
    "        \n",
    "        labels = self.labels[idx]\n",
    "        labels = torch.from_numpy(self.labels[idx]).float()\n",
    "\n",
    "        return sequences, labels"
   ]
  },
  {
   "cell_type": "code",
   "execution_count": null,
   "id": "24c6714e",
   "metadata": {},
   "outputs": [],
   "source": [
    "# train_set = TimeSeriesDataSet(X_train, Y_train)\n",
    "test_set = TimeSeriesDataSet(X, Y)"
   ]
  },
  {
   "cell_type": "code",
   "execution_count": null,
   "id": "3e204539",
   "metadata": {},
   "outputs": [],
   "source": [
    "from torch.utils.data import DataLoader\n",
    "# Set seed \n",
    "torch.manual_seed(42)\n",
    "batch_size = 64\n",
    "\n",
    "# train_dataloader = DataLoader(\n",
    "#     dataset=train_set, \n",
    "#     batch_size=batch_size, \n",
    "#     shuffle=True)\n",
    "\n",
    "test_dataloader = DataLoader(\n",
    "    dataset=test_set, \n",
    "    batch_size=batch_size, \n",
    "    shuffle=False)"
   ]
  },
  {
   "cell_type": "code",
   "execution_count": null,
   "id": "27c89860",
   "metadata": {},
   "outputs": [],
   "source": [
    "example_batch = iter(test_dataloader)\n",
    "sequences, labels = example_batch.next()\n",
    "np.shape(sequences), np.shape(labels)"
   ]
  },
  {
   "cell_type": "code",
   "execution_count": null,
   "id": "473a3ee8",
   "metadata": {},
   "outputs": [],
   "source": [
    "from torch.nn import MSELoss\n",
    "\n",
    "class ModelTester():\n",
    "    \n",
    "    def __init__(self, model):\n",
    "        self.model = model\n",
    "        self.criterion = MSELoss(reduction='sum')\n",
    "        self.score_test_last_epoch = []\n",
    "        self.log = dict(\n",
    "            test_mae=[]\n",
    "        )\n",
    "        \n",
    "    def predict(self, x, y, future=0):\n",
    "        with torch.no_grad():\n",
    "            labels_pred = self.model(x, future)\n",
    "            loss = self.criterion(labels_pred[:,-future:].float(), y)\n",
    "            y = labels_pred.detach().numpy()\n",
    "            return y\n",
    "\n",
    "    def train_model(self, test_dataloader=None):\n",
    "        len_test = 0\n",
    "        test_epoch_loss = 0\n",
    "        residuals_test = []\n",
    "        for batch, (sequences, labels) in enumerate(test_dataloader):\n",
    "            sequences = sequences.to(device)\n",
    "            labels = labels.to(device)\n",
    "            len_test += len(labels)\n",
    "            with torch.no_grad():\n",
    "                labels_pred = self.model(sequences)\n",
    "                loss = self.criterion(labels_pred.float(), labels)\n",
    "                test_epoch_loss += loss.item()\n",
    "                residuals_test.extend(labels_pred.cpu().numpy() - labels.cpu().numpy())\n",
    "            MAE_test = np.sqrt(test_epoch_loss / len_test)\n",
    "            self.score_test_last_epoch = residuals_test\n",
    "            self.log[\"test_mae\"].append(MAE_test)\n",
    "            print(\"MAE testset:\", MAE_test)\n"
   ]
  },
  {
   "cell_type": "code",
   "execution_count": null,
   "id": "60d33c93",
   "metadata": {},
   "outputs": [],
   "source": [
    "import torch.nn.functional as F\n",
    "import pandas as pd\n",
    "import numpy as np\n",
    "import matplotlib.pyplot as plt\n",
    "\n",
    "import torch\n",
    "from torch import nn\n",
    "\n",
    "class CNN2_Dropout(nn.Module):\n",
    "    def __init__(self):\n",
    "        super().__init__()\n",
    "        self.network = nn.Sequential(\n",
    "            nn.Conv1d(in_channels=1, out_channels=64, kernel_size=3),\n",
    "            nn.ReLU(),\n",
    "            nn.MaxPool1d(kernel_size=2, stride=1),\n",
    "            nn.Conv1d(in_channels=64, out_channels=128, kernel_size=3),\n",
    "            nn.ReLU(),\n",
    "            nn.MaxPool1d(kernel_size=2, stride=1),\n",
    "            nn.Conv1d(in_channels=128, out_channels=64, kernel_size=3),\n",
    "            nn.ReLU(),\n",
    "            nn.MaxPool1d(kernel_size=2, stride=1),\n",
    "            nn.Conv1d(in_channels=64, out_channels=64, kernel_size=3),\n",
    "            nn.ReLU(),\n",
    "            nn.MaxPool1d(2, stride=2),\n",
    "            nn.Flatten(),\n",
    "            nn.Linear(1152, 1),\n",
    "            nn.Dropout(0.2)\n",
    "        )\n",
    "\n",
    "    def forward(self, x):\n",
    "        x = x.reshape(x.shape[0], 1, x.shape[1])\n",
    "        logits = self.network(x)\n",
    "        return logits\n",
    "\n",
    "model = CNN2_Dropout().to(device)\n",
    "# print(summary(model_architectures.CNN3()), input_size=(64, 48, 1))"
   ]
  },
  {
   "cell_type": "code",
   "execution_count": null,
   "id": "27342ac8",
   "metadata": {
    "scrolled": false
   },
   "outputs": [],
   "source": [
    "# hidden_size = 50\n",
    "batch_size = batch_size\n",
    "len_seq = train_seq_len\n",
    "model_arch = \"CNN2_dropout\"\n",
    "\n",
    "trainer = ModelTester(model)  \n",
    "\n",
    "# run model training\n",
    "trainer.train_model(test_dataloader)"
   ]
  },
  {
   "cell_type": "code",
   "execution_count": null,
   "id": "49153c20",
   "metadata": {},
   "outputs": [],
   "source": [
    "plt.plot(trainer.log[\"train_score\"], label=\"train\")\n",
    "plt.plot(trainer.log[\"test_score\"], label=\"test\")\n",
    "plt.legend()\n",
    "plt.title(\"RMSE\")\n",
    "plt.xlabel(\"Epochs\")\n",
    "plt.ylabel(\"RMSE\")\n",
    "plt.show()\n"
   ]
  },
  {
   "cell_type": "code",
   "execution_count": null,
   "id": "ed59c892",
   "metadata": {},
   "outputs": [],
   "source": [
    "import os\n",
    "torch.save(model.state_dict(), os.path.join(os.getcwd(), 'models', 'CNN2.pth'))"
   ]
  },
  {
   "cell_type": "code",
   "execution_count": null,
   "id": "c39a4dbd",
   "metadata": {},
   "outputs": [],
   "source": [
    "test_model = CNN2_Dropout()\n",
    "test_model.load_state_dict(torch.load(os.path.join(os.getcwd(), 'models', 'CNN2.pth')))\n",
    "test_model.eval()\n",
    "print(torch.randint(100, 400, (48, 1)).float())\n",
    "test_model(torch.randint(100, 400, (1,48)).float())"
   ]
  },
  {
   "cell_type": "code",
   "execution_count": null,
   "id": "230e43d9",
   "metadata": {},
   "outputs": [],
   "source": [
    "print(torch.randint(200, 400, (1, 48)).float())"
   ]
  },
  {
   "cell_type": "markdown",
   "id": "03d4703a",
   "metadata": {},
   "source": [
    "## Ziel für die Metrik"
   ]
  },
  {
   "cell_type": "code",
   "execution_count": null,
   "id": "b8b26dfd",
   "metadata": {},
   "outputs": [],
   "source": [
    "plt.hist(sub_df)\n",
    "plt.title(\"Histogram of the target variable\")\n",
    "plt.xlabel(\"Target variable\")\n",
    "plt.ylabel(\"Frequency\")\n",
    "plt.show()\n",
    "\n",
    "sub_df.describe()\n",
    "plt.plot(sub_df)\n",
    "plt.title(\"Target variable\")\n",
    "plt.xlabel(\"Time\")\n",
    "plt.ylabel(\"Target variable\")\n",
    "plt.show()"
   ]
  },
  {
   "cell_type": "code",
   "execution_count": null,
   "id": "3671ced6",
   "metadata": {},
   "outputs": [],
   "source": [
    "# plt.boxplot(sub_df)\n",
    "# plt.title(\"Boxplot of the target variable\")\n",
    "# plt.xlabel(\"Target variable\")\n",
    "# plt.ylabel(\"Frequency\")\n",
    "# plt.show()\n",
    "\n",
    "# max(sub_df)\n",
    "# sub_df.values\n",
    "# sub_df.groupby(sub_df.values).mean()\n",
    "print('95% quantil', np.percentile(sub_df, 95))\n",
    "print('max', np.max(sub_df))"
   ]
  },
  {
   "cell_type": "code",
   "execution_count": null,
   "id": "50ed2a05",
   "metadata": {},
   "outputs": [],
   "source": []
  }
 ],
 "metadata": {
  "kernelspec": {
   "display_name": "Python 3.9.7 ('CHX')",
   "language": "python",
   "name": "python3"
  },
  "language_info": {
   "codemirror_mode": {
    "name": "ipython",
    "version": 3
   },
   "file_extension": ".py",
   "mimetype": "text/x-python",
   "name": "python",
   "nbconvert_exporter": "python",
   "pygments_lexer": "ipython3",
   "version": "3.9.7"
  },
  "vscode": {
   "interpreter": {
    "hash": "057d6b5c822a08e260e2545f3eac92f3c5f4aa056129a9b0b6ff0670282fbdf0"
   }
  }
 },
 "nbformat": 4,
 "nbformat_minor": 5
}
